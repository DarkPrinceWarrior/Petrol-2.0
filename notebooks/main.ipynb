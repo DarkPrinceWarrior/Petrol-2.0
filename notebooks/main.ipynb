{
 "cells": [
  {
   "cell_type": "code",
   "execution_count": 742,
   "metadata": {
    "pycharm": {
     "name": "#%%\n"
    }
   },
   "outputs": [],
   "source": [
    "import warnings\n",
    "warnings.filterwarnings(\"ignore\")\n",
    "import pandas as pd\n",
    "import numpy as np\n",
    "from sklearn.datasets import load_linnerud\n",
    "from sklearn.decomposition import PCA, TruncatedSVD\n",
    "from sklearn.model_selection import train_test_split\n",
    "from sklearn.pipeline import FeatureUnion\n",
    "from physlearn import Regressor\n",
    "from sklearn.svm import LinearSVC\n",
    "import os\n",
    "import cv2\n",
    "import re"
   ]
  },
  {
   "attachments": {},
   "cell_type": "markdown",
   "metadata": {
    "pycharm": {
     "name": "#%% md\n"
    }
   },
   "source": [
    "## Формировние синтетического датасета датасета на основе правил данных после спектрофотометрии"
   ]
  },
  {
   "cell_type": "code",
   "execution_count": 1049,
   "metadata": {
    "pycharm": {
     "name": "#%%\n"
    }
   },
   "outputs": [],
   "source": [
    "# Формирование коэффициентов ар, ал, раз, окис\n",
    "# формирование всех D\n",
    "# начальные значения \n",
    "chem_dict = {\"D720\":23,\"D1600\":[],\"D1375\":[],\"D1380\":[],\"D1700\":[],\"D2100\":500}\n",
    "\n",
    "# формирование D1600\n",
    "start_value = 50\n",
    "step = (chem_dict[\"D2100\"]-start_value)/1000\n",
    "for index in range(1000):\n",
    "    chem_dict[\"D1600\"].append(start_value+(step*index))\n",
    "    \n",
    "# формирование D1375\n",
    "start_value = 2\n",
    "step = (chem_dict[\"D1600\"][0]-start_value)/1000\n",
    "for index in range(1000):\n",
    "    chem_dict[\"D1375\"].append(start_value+(step*index))\n",
    "    \n",
    "# формирование D1380   \n",
    "chem_dict[\"D1380\"] = 0.3*chem_dict[\"D720\"]\n",
    "\n",
    "# формирование D1700  \n",
    "chem_dict[\"D1700\"] = [x*0.54 for x in chem_dict[\"D1375\"]]"
   ]
  },
  {
   "cell_type": "code",
   "execution_count": 1050,
   "metadata": {
    "pycharm": {
     "name": "#%%\n"
    }
   },
   "outputs": [],
   "source": [
    "# Теперь высчитываем коэффициенты + некоторые вычисления для \"шума\" в данных\n",
    "noise = np.random.normal(0,1,1000)\n",
    "df_coef = pd.DataFrame()\n",
    "df_coef[\"Ароматичность\"] = [(x/chem_dict[\"D2100\"])+abs(noise[index]/10) for index,x in enumerate(chem_dict[\"D1600\"])]\n",
    "df_coef[\"Алифатичность\"] = [((values[0]+chem_dict[\"D720\"])/values[1])+np.exp(abs(noise[index]))\n",
    "                            for index,values in enumerate(zip(chem_dict[\"D1375\"],[10+index*0.01 for index in range(1000)]))]\n",
    "\n",
    "df_coef[\"Разветвленность\"] = (df_coef[\"Ароматичность\"].apply(lambda x:np.power(x,-2)))/chem_dict[\"D1380\"]\n",
    "df_coef[\"Окисленность\"] = [np.power((values[0]/values[1])+0.4,2)+abs(noise[index])/50 for index,values in enumerate(zip(chem_dict[\"D1700\"],chem_dict[\"D1600\"]))]"
   ]
  },
  {
   "cell_type": "code",
   "execution_count": 1051,
   "metadata": {
    "pycharm": {
     "name": "#%%\n"
    }
   },
   "outputs": [
    {
     "data": {
      "text/html": [
       "<div>\n",
       "<style scoped>\n",
       "    .dataframe tbody tr th:only-of-type {\n",
       "        vertical-align: middle;\n",
       "    }\n",
       "\n",
       "    .dataframe tbody tr th {\n",
       "        vertical-align: top;\n",
       "    }\n",
       "\n",
       "    .dataframe thead th {\n",
       "        text-align: right;\n",
       "    }\n",
       "</style>\n",
       "<table border=\"1\" class=\"dataframe\">\n",
       "  <thead>\n",
       "    <tr style=\"text-align: right;\">\n",
       "      <th></th>\n",
       "      <th>Ароматичность</th>\n",
       "      <th>Алифатичность</th>\n",
       "      <th>Разветвленность</th>\n",
       "      <th>Окисленность</th>\n",
       "    </tr>\n",
       "  </thead>\n",
       "  <tbody>\n",
       "    <tr>\n",
       "      <th>603</th>\n",
       "      <td>0.643135</td>\n",
       "      <td>4.369554</td>\n",
       "      <td>0.350385</td>\n",
       "      <td>0.204390</td>\n",
       "    </tr>\n",
       "    <tr>\n",
       "      <th>64</th>\n",
       "      <td>0.193871</td>\n",
       "      <td>4.075559</td>\n",
       "      <td>3.855913</td>\n",
       "      <td>0.196268</td>\n",
       "    </tr>\n",
       "    <tr>\n",
       "      <th>500</th>\n",
       "      <td>0.586828</td>\n",
       "      <td>4.711910</td>\n",
       "      <td>0.420852</td>\n",
       "      <td>0.210816</td>\n",
       "    </tr>\n",
       "    <tr>\n",
       "      <th>768</th>\n",
       "      <td>0.977923</td>\n",
       "      <td>9.969434</td>\n",
       "      <td>0.151545</td>\n",
       "      <td>0.242599</td>\n",
       "    </tr>\n",
       "    <tr>\n",
       "      <th>399</th>\n",
       "      <td>0.503311</td>\n",
       "      <td>4.711957</td>\n",
       "      <td>0.572108</td>\n",
       "      <td>0.211125</td>\n",
       "    </tr>\n",
       "  </tbody>\n",
       "</table>\n",
       "</div>"
      ],
      "text/plain": [
       "     Ароматичность  Алифатичность  Разветвленность  Окисленность\n",
       "603       0.643135       4.369554         0.350385      0.204390\n",
       "64        0.193871       4.075559         3.855913      0.196268\n",
       "500       0.586828       4.711910         0.420852      0.210816\n",
       "768       0.977923       9.969434         0.151545      0.242599\n",
       "399       0.503311       4.711957         0.572108      0.211125"
      ]
     },
     "execution_count": 1051,
     "metadata": {},
     "output_type": "execute_result"
    }
   ],
   "source": [
    "df_coef.sample(5)"
   ]
  },
  {
   "cell_type": "code",
   "execution_count": 1052,
   "metadata": {
    "pycharm": {
     "name": "#%%\n"
    }
   },
   "outputs": [
    {
     "data": {
      "text/plain": [
       "array([[<matplotlib.axes._subplots.AxesSubplot object at 0x000001EB95D52B20>,\n",
       "        <matplotlib.axes._subplots.AxesSubplot object at 0x000001EB95D57B20>],\n",
       "       [<matplotlib.axes._subplots.AxesSubplot object at 0x000001EB95D8AF10>,\n",
       "        <matplotlib.axes._subplots.AxesSubplot object at 0x000001EB95C3D730>]],\n",
       "      dtype=object)"
      ]
     },
     "execution_count": 1052,
     "metadata": {},
     "output_type": "execute_result"
    },
    {
     "data": {
      "image/png": "[encoded data removed]",
      "text/plain": [
       "<Figure size 640x480 with 4 Axes>"
      ]
     },
     "metadata": {},
     "output_type": "display_data"
    }
   ],
   "source": [
    "df_coef.hist()"
   ]
  },
  {
   "cell_type": "code",
   "execution_count": 1053,
   "metadata": {
    "pycharm": {
     "name": "#%%\n"
    }
   },
   "outputs": [
    {
     "data": {
      "image/png": "[encoded data removed]",
      "text/plain": [
       "<Figure size 640x480 with 2 Axes>"
      ]
     },
     "metadata": {},
     "output_type": "display_data"
    }
   ],
   "source": [
    "# Матрица корреляции\n",
    "import seaborn as sns\n",
    "import matplotlib.pyplot as plt\n",
    "\n",
    "hm = sns.heatmap(df_coef.corr().abs(), annot = True,vmax=1.0,vmin=0)\n",
    "hm.set(xlabel='\\nGen data', ylabel='Gen data\\t', title = \"Correlation matrix of Gen data\\n\")\n",
    "plt.show()"
   ]
  },
  {
   "cell_type": "code",
   "execution_count": 1054,
   "metadata": {
    "pycharm": {
     "name": "#%%\n"
    }
   },
   "outputs": [],
   "source": [
    "# Функция для задания других параметров\n",
    "def feature_func(df_coef):\n",
    "    coef1 = [0.03, 0.4, 0.003, 0.001]\n",
    "    coef2 = [0.002, 0.001, 0.03, 0.14]\n",
    "    coef3 = [0.001, 0.002, 0.1, 0.099]\n",
    "    coef4 = [0.111, 0.2323, 0.00223, 0.01111]\n",
    "    noise = abs(np.random.normal(0,1,1000))\n",
    "    df_petrol_compounds = pd.DataFrame()\n",
    "    df_petrol_compounds[\"содержание серы\"] = (coef1[0]*df_coef.iloc[:, 0] + coef1[1]*df_coef.iloc[:, 1]+ coef1[2]*df_coef.iloc[:, 2] +coef1[3]*df_coef.iloc[:, 3])+noise/100\n",
    "    df_petrol_compounds[\"плотность\"] = np.abs(coef2[0]*df_petrol_compounds.iloc[:, 0] + coef2[1]*df_coef.iloc[:, 2]+coef2[2]*df_coef.iloc[:, 1]+coef2[3]*df_coef.iloc[:, 0])+noise/60\n",
    "    df_petrol_compounds[\"вязкость\"] = np.abs(coef3[0]*df_coef.iloc[:, 2] +coef3[1]*df_petrol_compounds.iloc[:, 1] +coef3[2]*df_coef.iloc[:, 3] +coef3[3]*df_coef.iloc[:, 0])+noise/50\n",
    "    df_petrol_compounds[\"процент неразд. эмульсии\"] = np.abs(coef4[0]*df_coef.iloc[:, 1] + coef4[1]*df_coef.iloc[:, 3] +coef4[2]*df_coef.iloc[:, 0] +coef4[3]*df_petrol_compounds.iloc[:, 2])+noise/10\n",
    "    \n",
    "    return pd.concat([df_coef,df_petrol_compounds], axis=1)"
   ]
  },
  {
   "cell_type": "code",
   "execution_count": 1055,
   "metadata": {
    "pycharm": {
     "name": "#%%\n"
    }
   },
   "outputs": [],
   "source": [
    "# формирование - содеражния серы, вязкости, плотности и эмульсии\n",
    "df_petrol_compounds = pd.DataFrame()\n",
    "df = feature_func(df_coef)"
   ]
  },
  {
   "cell_type": "code",
   "execution_count": 1056,
   "metadata": {
    "pycharm": {
     "name": "#%%\n"
    }
   },
   "outputs": [
    {
     "data": {
      "image/png": "[encoded data removed]",
      "text/plain": [
       "<Figure size 640x480 with 2 Axes>"
      ]
     },
     "metadata": {},
     "output_type": "display_data"
    }
   ],
   "source": [
    "# Матрица корреляции\n",
    "\n",
    "import seaborn as sns\n",
    "import matplotlib.pyplot as plt\n",
    "\n",
    "hm = sns.heatmap(df.corr().abs(), annot = True,vmax=1.0,vmin=0)\n",
    "hm.set(xlabel='\\nGen data', ylabel='Gen data\\t', title = \"Correlation matrix of Gen data\\n\")\n",
    "plt.show()"
   ]
  },
  {
   "cell_type": "code",
   "execution_count": 1057,
   "metadata": {
    "pycharm": {
     "name": "#%%\n"
    }
   },
   "outputs": [
    {
     "data": {
      "text/html": [
       "<div>\n",
       "<style scoped>\n",
       "    .dataframe tbody tr th:only-of-type {\n",
       "        vertical-align: middle;\n",
       "    }\n",
       "\n",
       "    .dataframe tbody tr th {\n",
       "        vertical-align: top;\n",
       "    }\n",
       "\n",
       "    .dataframe thead th {\n",
       "        text-align: right;\n",
       "    }\n",
       "</style>\n",
       "<table border=\"1\" class=\"dataframe\">\n",
       "  <thead>\n",
       "    <tr style=\"text-align: right;\">\n",
       "      <th></th>\n",
       "      <th>Ароматичность</th>\n",
       "      <th>Алифатичность</th>\n",
       "      <th>Разветвленность</th>\n",
       "      <th>Окисленность</th>\n",
       "      <th>содержание серы</th>\n",
       "      <th>плотность</th>\n",
       "      <th>вязкость</th>\n",
       "      <th>процент неразд. эмульсии</th>\n",
       "    </tr>\n",
       "  </thead>\n",
       "  <tbody>\n",
       "    <tr>\n",
       "      <th>48</th>\n",
       "      <td>0.299352</td>\n",
       "      <td>7.371385</td>\n",
       "      <td>1.617289</td>\n",
       "      <td>0.218252</td>\n",
       "      <td>2.973015</td>\n",
       "      <td>0.287965</td>\n",
       "      <td>0.074475</td>\n",
       "      <td>0.974525</td>\n",
       "    </tr>\n",
       "    <tr>\n",
       "      <th>756</th>\n",
       "      <td>0.786472</td>\n",
       "      <td>4.552810</td>\n",
       "      <td>0.234306</td>\n",
       "      <td>0.206412</td>\n",
       "      <td>1.850640</td>\n",
       "      <td>0.258980</td>\n",
       "      <td>0.109280</td>\n",
       "      <td>0.606406</td>\n",
       "    </tr>\n",
       "    <tr>\n",
       "      <th>204</th>\n",
       "      <td>0.297854</td>\n",
       "      <td>4.042895</td>\n",
       "      <td>1.633599</td>\n",
       "      <td>0.200792</td>\n",
       "      <td>1.631423</td>\n",
       "      <td>0.168262</td>\n",
       "      <td>0.051992</td>\n",
       "      <td>0.498924</td>\n",
       "    </tr>\n",
       "    <tr>\n",
       "      <th>983</th>\n",
       "      <td>1.096105</td>\n",
       "      <td>6.686825</td>\n",
       "      <td>0.120627</td>\n",
       "      <td>0.228346</td>\n",
       "      <td>2.720287</td>\n",
       "      <td>0.379760</td>\n",
       "      <td>0.156397</td>\n",
       "      <td>0.920302</td>\n",
       "    </tr>\n",
       "    <tr>\n",
       "      <th>400</th>\n",
       "      <td>0.582082</td>\n",
       "      <td>6.547116</td>\n",
       "      <td>0.427742</td>\n",
       "      <td>0.226713</td>\n",
       "      <td>2.648724</td>\n",
       "      <td>0.301806</td>\n",
       "      <td>0.103140</td>\n",
       "      <td>0.890894</td>\n",
       "    </tr>\n",
       "  </tbody>\n",
       "</table>\n",
       "</div>"
      ],
      "text/plain": [
       "     Ароматичность  Алифатичность  Разветвленность  Окисленность  \\\n",
       "48        0.299352       7.371385         1.617289      0.218252   \n",
       "756       0.786472       4.552810         0.234306      0.206412   \n",
       "204       0.297854       4.042895         1.633599      0.200792   \n",
       "983       1.096105       6.686825         0.120627      0.228346   \n",
       "400       0.582082       6.547116         0.427742      0.226713   \n",
       "\n",
       "     содержание серы  плотность  вязкость  процент неразд. эмульсии  \n",
       "48          2.973015   0.287965  0.074475                  0.974525  \n",
       "756         1.850640   0.258980  0.109280                  0.606406  \n",
       "204         1.631423   0.168262  0.051992                  0.498924  \n",
       "983         2.720287   0.379760  0.156397                  0.920302  \n",
       "400         2.648724   0.301806  0.103140                  0.890894  "
      ]
     },
     "execution_count": 1057,
     "metadata": {},
     "output_type": "execute_result"
    }
   ],
   "source": [
    "# Вывод пяти рандомных строк\n",
    "df.sample(5)"
   ]
  },
  {
   "cell_type": "code",
   "execution_count": 1058,
   "metadata": {
    "pycharm": {
     "name": "#%%\n"
    }
   },
   "outputs": [
    {
     "name": "stdout",
     "output_type": "stream",
     "text": [
      "dict_keys([0, 1])\n",
      "dict_values([922, 78])\n"
     ]
    }
   ],
   "source": [
    "# класстеризация на 2 класса химии\n",
    "from sklearn.cluster import KMeans\n",
    "from collections import Counter\n",
    "\n",
    "kmeans = KMeans(n_clusters=2,n_init=10, max_iter=300,random_state=42)\n",
    "kmeans.fit(df)\n",
    "df[\"класс химии\"] = kmeans.labels_\n",
    "print(Counter(df[\"класс химии\"]).keys()) # equals to list(set(...))\n",
    "print(Counter(df[\"класс химии\"]).values()) # counts the elements' frequency"
   ]
  },
  {
   "cell_type": "code",
   "execution_count": 1059,
   "metadata": {
    "pycharm": {
     "name": "#%%\n"
    }
   },
   "outputs": [],
   "source": [
    "# создать списки процентов, которые одинаково ложаться на кол-во образцов химии разных классов\n",
    "chem_rate = []\n",
    "for class_count in Counter(df[\"класс химии\"]).values():\n",
    "    chem_rate.append([i for i in [5,10,15,20] for _ in range(class_count//4)])\n",
    "    \n",
    "# Просто сформиоовать поле процента\n",
    "df[\"прооцент химии\"] = 5"
   ]
  },
  {
   "cell_type": "code",
   "execution_count": 1060,
   "metadata": {
    "pycharm": {
     "name": "#%%\n"
    }
   },
   "outputs": [],
   "source": [
    "# присвоить каждому классу лист равно равпредленого процента химии этого класса\n",
    "num_values_per_class = list(Counter(df[\"класс химии\"]).values())\n",
    "for index,class_num in enumerate(Counter(df[\"класс химии\"]).keys()):\n",
    "    len_1 = num_values_per_class[index]\n",
    "    len_2 = len(chem_rate[index])\n",
    "    if len_1!=len_2:\n",
    "        # присваиваем по дефолту 10 процентов на расширении\n",
    "        chem_rate[index].extend([10]*(len_1-len_2))\n",
    "    df.loc[df['класс химии'] == class_num, 'прооцент химии'] = chem_rate[index]"
   ]
  },
  {
   "cell_type": "code",
   "execution_count": 1061,
   "metadata": {
    "pycharm": {
     "name": "#%%\n"
    }
   },
   "outputs": [],
   "source": [
    "# Создание переменных\n",
    "df[\"Ароматичность-(химия)\"] = 0\n",
    "df[\"Алифатичность-(химия)\"] = 0\n",
    "df[\"Разветвленность-(химия)\"] = 0\n",
    "df[\"Окисленность-(химия)\"] = 0\n",
    "\n",
    "df[\"содержание серы-(химия)\"] = 0\n",
    "df[\"плотность-(химия)\"] = 0\n",
    "df[\"вязкость-(химия)\"] = 0\n",
    "df[\"процент неразд. эмульсии-(химия)\"] = 0"
   ]
  },
  {
   "cell_type": "code",
   "execution_count": 1062,
   "metadata": {
    "pycharm": {
     "name": "#%%\n"
    }
   },
   "outputs": [],
   "source": [
    "# Функция для задания выходных параметров\n",
    "def output_func(df):\n",
    "    noise = 0.39\n",
    "    # noise = abs(np.random.normal(0,1,1000))\n",
    "    # для класса -1 будет применятся sin\n",
    "    # для класса -2 будет применятся sinc\n",
    "    \n",
    "    # для процента -5 будет применятся exp\n",
    "    # для процента -10 будет применятся pow\n",
    "    # для процента -15 будет применятся ln\n",
    "    # для процента -20 будет применятся sqrt\n",
    "    \n",
    "    chem_class_list = sorted(list(Counter(df[\"класс химии\"]).keys()))\n",
    "    for chm_cls in chem_class_list:\n",
    "        for chem_rate in [5,10,15,20]:\n",
    "            # 1st class\n",
    "            if chm_cls==0:\n",
    "                if chem_rate==5:\n",
    "                    # изменения по коэффициентам  \n",
    "                    df.loc[(df['класс химии'] == chm_cls) & \n",
    "                           (df['прооцент химии'] == chem_rate), \n",
    "                           df.columns[10:18]] = (np.abs(np.sin(np.pi*df.loc[(df['класс химии'] == chm_cls) & (df['прооцент химии'] == chem_rate),df.columns[0:8]])*np.exp(3))+noise).values\n",
    "                if chem_rate==10:\n",
    "                    # изменения по коэффициентам        \n",
    "                    df.loc[(df['класс химии'] == chm_cls) & \n",
    "                           (df['прооцент химии'] == chem_rate),  df.columns[10:18]] = (np.abs(np.sin(np.pi*df.loc[(df['класс химии'] == chm_cls) & \n",
    "                                                                                                     (df['прооцент химии'] == chem_rate),df.columns[0:8]])/np.power(noise,3))+noise).values\n",
    "                if chem_rate==15:\n",
    "                    # изменения по коэффициентам        \n",
    "                    df.loc[(df['класс химии'] == chm_cls) & \n",
    "                           (df['прооцент химии'] == chem_rate),  \n",
    "                           df.columns[10:18]] = (np.abs(np.sin(np.pi*df.loc[(df['класс химии'] == chm_cls) & (df['прооцент химии'] == chem_rate),df.columns[0:8]])/np.log(6))+noise).values\n",
    "                if chem_rate==20:\n",
    "                    # изменения по коэффициентам        \n",
    "                    df.loc[(df['класс химии'] == chm_cls)\n",
    "                           & (df['прооцент химии'] == chem_rate),\n",
    "                           df.columns[10:18]] = (np.abs(np.sin(np.pi*df.loc[(df['класс химии'] == chm_cls) & (df['прооцент химии'] == chem_rate),df.columns[0:8]])/np.sqrt(3))+noise).values\n",
    "                # 2nd class\n",
    "            if chm_cls==1:\n",
    "                if chem_rate==5:\n",
    "                    # изменения по коэффициентам        \n",
    "                    df.loc[(df['класс химии'] == chm_cls) \n",
    "                           & (df['прооцент химии'] == chem_rate), \n",
    "                           df.columns[10:18]] = (np.abs(np.tan(np.pi/2+3)*(df.loc[(df['класс химии'] == chm_cls) & (df['прооцент химии'] == chem_rate),df.columns[0:8]])*np.exp(3))+noise).values\n",
    "                if chem_rate==10:\n",
    "                    # изменения по коэффициентам        \n",
    "                    df.loc[(df['класс химии'] == chm_cls) \n",
    "                           & (df['прооцент химии'] == chem_rate),\n",
    "                           df.columns[10:18]] = (np.abs(np.tan(np.pi/2+3)*(df.loc[(df['класс химии'] == chm_cls) & (df['прооцент химии'] == chem_rate),df.columns[0:8]])/np.power(0.39,3))+noise).values\n",
    "                if chem_rate==15:\n",
    "                    # изменения по коэффициентам        \n",
    "                    df.loc[(df['класс химии'] == chm_cls)\n",
    "                           & (df['прооцент химии'] == chem_rate), \n",
    "                           df.columns[10:18]] = (np.abs(np.tan(np.pi/2+3)*(df.loc[(df['класс химии'] == chm_cls) & (df['прооцент химии'] == chem_rate),df.columns[0:8]])/np.log(6))+noise).values\n",
    "                if chem_rate==20:\n",
    "                    # изменения по коэффициентам        \n",
    "                    df.loc[(df['класс химии'] == chm_cls) \n",
    "                           & (df['прооцент химии'] == chem_rate), \n",
    "                           df.columns[10:18]] = (np.abs(np.tan(np.pi/2+3)*(df.loc[(df['класс химии'] == chm_cls) & (df['прооцент химии'] == chem_rate),df.columns[0:8]])/np.sqrt(3))+noise).values\n",
    "        \n",
    "    return df"
   ]
  },
  {
   "cell_type": "code",
   "execution_count": 1063,
   "metadata": {
    "pycharm": {
     "name": "#%%\n"
    }
   },
   "outputs": [],
   "source": [
    "# формирование полного датасета\n",
    "df = output_func(df)"
   ]
  },
  {
   "cell_type": "code",
   "execution_count": 1064,
   "metadata": {
    "pycharm": {
     "name": "#%%\n"
    }
   },
   "outputs": [
    {
     "data": {
      "image/png": "[encoded data removed]",
      "text/plain": [
       "<Figure size 640x480 with 2 Axes>"
      ]
     },
     "metadata": {},
     "output_type": "display_data"
    }
   ],
   "source": [
    "# Матрица корреляции\n",
    "\n",
    "import seaborn as sns\n",
    "import matplotlib.pyplot as plt\n",
    "\n",
    "hm = sns.heatmap(df.corr().abs(), annot = False,vmax=1.0,vmin=0)\n",
    "hm.set(xlabel='\\nGen data', ylabel='Gen data\\t', title = \"Correlation matrix of Gen data\\n\")\n",
    "plt.show()"
   ]
  },
  {
   "attachments": {},
   "cell_type": "markdown",
   "metadata": {
    "pycharm": {
     "name": "#%% md\n"
    }
   },
   "source": [
    "## EDA - анализ данных"
   ]
  },
  {
   "attachments": {},
   "cell_type": "markdown",
   "metadata": {
    "pycharm": {
     "name": "#%% md\n"
    }
   },
   "source": [
    "### первичный подход"
   ]
  },
  {
   "cell_type": "code",
   "execution_count": 1065,
   "metadata": {
    "pycharm": {
     "name": "#%%\n"
    }
   },
   "outputs": [
    {
     "data": {
      "text/html": [
       "<div>\n",
       "<style scoped>\n",
       "    .dataframe tbody tr th:only-of-type {\n",
       "        vertical-align: middle;\n",
       "    }\n",
       "\n",
       "    .dataframe tbody tr th {\n",
       "        vertical-align: top;\n",
       "    }\n",
       "\n",
       "    .dataframe thead th {\n",
       "        text-align: right;\n",
       "    }\n",
       "</style>\n",
       "<table border=\"1\" class=\"dataframe\">\n",
       "  <thead>\n",
       "    <tr style=\"text-align: right;\">\n",
       "      <th></th>\n",
       "      <th>Ароматичность</th>\n",
       "      <th>Алифатичность</th>\n",
       "      <th>Разветвленность</th>\n",
       "      <th>Окисленность</th>\n",
       "      <th>содержание серы</th>\n",
       "      <th>плотность</th>\n",
       "      <th>вязкость</th>\n",
       "      <th>процент неразд. эмульсии</th>\n",
       "      <th>класс химии</th>\n",
       "      <th>прооцент химии</th>\n",
       "      <th>Ароматичность-(химия)</th>\n",
       "      <th>Алифатичность-(химия)</th>\n",
       "      <th>Разветвленность-(химия)</th>\n",
       "      <th>Окисленность-(химия)</th>\n",
       "      <th>содержание серы-(химия)</th>\n",
       "      <th>плотность-(химия)</th>\n",
       "      <th>вязкость-(химия)</th>\n",
       "      <th>процент неразд. эмульсии-(химия)</th>\n",
       "    </tr>\n",
       "  </thead>\n",
       "  <tbody>\n",
       "    <tr>\n",
       "      <th>766</th>\n",
       "      <td>0.828337</td>\n",
       "      <td>4.973674</td>\n",
       "      <td>0.211221</td>\n",
       "      <td>0.213032</td>\n",
       "      <td>2.018444</td>\n",
       "      <td>0.274887</td>\n",
       "      <td>0.110624</td>\n",
       "      <td>0.637413</td>\n",
       "      <td>0</td>\n",
       "      <td>20</td>\n",
       "      <td>0.686487</td>\n",
       "      <td>0.437695</td>\n",
       "      <td>0.745609</td>\n",
       "      <td>0.748192</td>\n",
       "      <td>0.423434</td>\n",
       "      <td>0.828888</td>\n",
       "      <td>0.586635</td>\n",
       "      <td>0.914383</td>\n",
       "    </tr>\n",
       "    <tr>\n",
       "      <th>838</th>\n",
       "      <td>0.961425</td>\n",
       "      <td>6.470586</td>\n",
       "      <td>0.156791</td>\n",
       "      <td>0.227003</td>\n",
       "      <td>2.623867</td>\n",
       "      <td>0.344275</td>\n",
       "      <td>0.130911</td>\n",
       "      <td>0.835486</td>\n",
       "      <td>0</td>\n",
       "      <td>20</td>\n",
       "      <td>0.459796</td>\n",
       "      <td>0.964887</td>\n",
       "      <td>0.663025</td>\n",
       "      <td>0.767715</td>\n",
       "      <td>0.924185</td>\n",
       "      <td>0.899626</td>\n",
       "      <td>0.620808</td>\n",
       "      <td>0.675287</td>\n",
       "    </tr>\n",
       "    <tr>\n",
       "      <th>798</th>\n",
       "      <td>0.844565</td>\n",
       "      <td>4.822476</td>\n",
       "      <td>0.203182</td>\n",
       "      <td>0.210663</td>\n",
       "      <td>1.962762</td>\n",
       "      <td>0.279733</td>\n",
       "      <td>0.120671</td>\n",
       "      <td>0.663604</td>\n",
       "      <td>0</td>\n",
       "      <td>20</td>\n",
       "      <td>0.660856</td>\n",
       "      <td>0.695558</td>\n",
       "      <td>0.734010</td>\n",
       "      <td>0.744812</td>\n",
       "      <td>0.457388</td>\n",
       "      <td>0.834548</td>\n",
       "      <td>0.603667</td>\n",
       "      <td>0.892754</td>\n",
       "    </tr>\n",
       "    <tr>\n",
       "      <th>984</th>\n",
       "      <td>1.034106</td>\n",
       "      <td>5.264999</td>\n",
       "      <td>0.135525</td>\n",
       "      <td>0.215769</td>\n",
       "      <td>2.142831</td>\n",
       "      <td>0.315790</td>\n",
       "      <td>0.135093</td>\n",
       "      <td>0.690208</td>\n",
       "      <td>0</td>\n",
       "      <td>20</td>\n",
       "      <td>0.451743</td>\n",
       "      <td>0.817025</td>\n",
       "      <td>0.628456</td>\n",
       "      <td>0.752072</td>\n",
       "      <td>0.640461</td>\n",
       "      <td>0.873339</td>\n",
       "      <td>0.627742</td>\n",
       "      <td>0.867303</td>\n",
       "    </tr>\n",
       "    <tr>\n",
       "      <th>707</th>\n",
       "      <td>0.784976</td>\n",
       "      <td>5.079651</td>\n",
       "      <td>0.235200</td>\n",
       "      <td>0.214682</td>\n",
       "      <td>2.077383</td>\n",
       "      <td>0.301766</td>\n",
       "      <td>0.142127</td>\n",
       "      <td>0.827578</td>\n",
       "      <td>0</td>\n",
       "      <td>15</td>\n",
       "      <td>0.738987</td>\n",
       "      <td>0.528203</td>\n",
       "      <td>0.765875</td>\n",
       "      <td>0.738520</td>\n",
       "      <td>0.524348</td>\n",
       "      <td>0.843334</td>\n",
       "      <td>0.631001</td>\n",
       "      <td>0.677748</td>\n",
       "    </tr>\n",
       "  </tbody>\n",
       "</table>\n",
       "</div>"
      ],
      "text/plain": [
       "     Ароматичность  Алифатичность  Разветвленность  Окисленность  \\\n",
       "766       0.828337       4.973674         0.211221      0.213032   \n",
       "838       0.961425       6.470586         0.156791      0.227003   \n",
       "798       0.844565       4.822476         0.203182      0.210663   \n",
       "984       1.034106       5.264999         0.135525      0.215769   \n",
       "707       0.784976       5.079651         0.235200      0.214682   \n",
       "\n",
       "     содержание серы  плотность  вязкость  процент неразд. эмульсии  \\\n",
       "766         2.018444   0.274887  0.110624                  0.637413   \n",
       "838         2.623867   0.344275  0.130911                  0.835486   \n",
       "798         1.962762   0.279733  0.120671                  0.663604   \n",
       "984         2.142831   0.315790  0.135093                  0.690208   \n",
       "707         2.077383   0.301766  0.142127                  0.827578   \n",
       "\n",
       "     класс химии  прооцент химии  Ароматичность-(химия)  \\\n",
       "766            0              20               0.686487   \n",
       "838            0              20               0.459796   \n",
       "798            0              20               0.660856   \n",
       "984            0              20               0.451743   \n",
       "707            0              15               0.738987   \n",
       "\n",
       "     Алифатичность-(химия)  Разветвленность-(химия)  Окисленность-(химия)  \\\n",
       "766               0.437695                 0.745609              0.748192   \n",
       "838               0.964887                 0.663025              0.767715   \n",
       "798               0.695558                 0.734010              0.744812   \n",
       "984               0.817025                 0.628456              0.752072   \n",
       "707               0.528203                 0.765875              0.738520   \n",
       "\n",
       "     содержание серы-(химия)  плотность-(химия)  вязкость-(химия)  \\\n",
       "766                 0.423434           0.828888          0.586635   \n",
       "838                 0.924185           0.899626          0.620808   \n",
       "798                 0.457388           0.834548          0.603667   \n",
       "984                 0.640461           0.873339          0.627742   \n",
       "707                 0.524348           0.843334          0.631001   \n",
       "\n",
       "     процент неразд. эмульсии-(химия)  \n",
       "766                          0.914383  \n",
       "838                          0.675287  \n",
       "798                          0.892754  \n",
       "984                          0.867303  \n",
       "707                          0.677748  "
      ]
     },
     "execution_count": 1065,
     "metadata": {},
     "output_type": "execute_result"
    }
   ],
   "source": [
    "df=pd.read_csv(\"data.csv\")\n",
    "\n",
    "# in dataset there are 2 empty rows as delimeter for classification\n",
    "after_chem_columns = [\"Ароматичность(химия)\",\"Алифатичность(химия)\",\"Разветвленность(химия)\",\"Окисленность(химия)\",\" содержание серы(химия)\",\n",
    "              \"плотность(химия)\",\"вязкость(химия)\",\"процент неразделяемой эмульсии(химия)\"]\n",
    "df = df.sample(frac=1)\n",
    "df_train =df.iloc[:800,:] \n",
    "df_valid =df.iloc[800:,:] \n",
    "df_train.head()"
   ]
  },
  {
   "cell_type": "code",
   "execution_count": 1066,
   "metadata": {
    "pycharm": {
     "name": "#%%\n"
    }
   },
   "outputs": [
    {
     "data": {
      "text/plain": [
       "array([[<matplotlib.axes._subplots.AxesSubplot object at 0x000001EB95EFE730>,\n",
       "        <matplotlib.axes._subplots.AxesSubplot object at 0x000001EB960F14F0>],\n",
       "       [<matplotlib.axes._subplots.AxesSubplot object at 0x000001EB96117C70>,\n",
       "        <matplotlib.axes._subplots.AxesSubplot object at 0x000001EB9614A490>]],\n",
       "      dtype=object)"
      ]
     },
     "execution_count": 1066,
     "metadata": {},
     "output_type": "execute_result"
    },
    {
     "data": {
      "image/png": "[encoded data removed]",
      "text/plain": [
       "<Figure size 640x480 with 4 Axes>"
      ]
     },
     "metadata": {},
     "output_type": "display_data"
    }
   ],
   "source": [
    "#create histogram for each team\n",
    "df.hist(column=[\"Ароматичность\",\"Алифатичность\",\"Разветвленность\",\"Окисленность\",],bins= 3)"
   ]
  },
  {
   "cell_type": "code",
   "execution_count": 1067,
   "metadata": {
    "pycharm": {
     "name": "#%%\n"
    }
   },
   "outputs": [
    {
     "data": {
      "text/plain": [
       "array([[<matplotlib.axes._subplots.AxesSubplot object at 0x000001EB8961D370>,\n",
       "        <matplotlib.axes._subplots.AxesSubplot object at 0x000001EB96572C10>],\n",
       "       [<matplotlib.axes._subplots.AxesSubplot object at 0x000001EB965FC370>,\n",
       "        <matplotlib.axes._subplots.AxesSubplot object at 0x000001EB96624B50>]],\n",
       "      dtype=object)"
      ]
     },
     "execution_count": 1067,
     "metadata": {},
     "output_type": "execute_result"
    },
    {
     "data": {
      "image/png": "[encoded data removed]",
      "text/plain": [
       "<Figure size 640x480 with 4 Axes>"
      ]
     },
     "metadata": {},
     "output_type": "display_data"
    }
   ],
   "source": [
    "#create histogram for each team\n",
    "df.hist(column=[\"содержание серы\",\"плотность\",\"вязкость\",\"процент неразд. эмульсии\",],bins= 3)"
   ]
  },
  {
   "cell_type": "code",
   "execution_count": 1068,
   "metadata": {
    "pycharm": {
     "name": "#%%\n"
    }
   },
   "outputs": [
    {
     "data": {
      "text/plain": [
       "array([[<matplotlib.axes._subplots.AxesSubplot object at 0x000001EB96A1C8E0>,\n",
       "        <matplotlib.axes._subplots.AxesSubplot object at 0x000001EB96A491C0>],\n",
       "       [<matplotlib.axes._subplots.AxesSubplot object at 0x000001EB968E1E80>,\n",
       "        <matplotlib.axes._subplots.AxesSubplot object at 0x000001EB9690A8B0>]],\n",
       "      dtype=object)"
      ]
     },
     "execution_count": 1068,
     "metadata": {},
     "output_type": "execute_result"
    },
    {
     "data": {
      "image/png": "[encoded data removed]",
      "text/plain": [
       "<Figure size 640x480 with 4 Axes>"
      ]
     },
     "metadata": {},
     "output_type": "display_data"
    }
   ],
   "source": [
    "#create histogram for each team\n",
    "df.hist(column=[\"Ароматичность-(химия)\",\"Алифатичность-(химия)\",\"Разветвленность-(химия)\",\"Окисленность-(химия)\",],bins= 3)"
   ]
  },
  {
   "cell_type": "code",
   "execution_count": 1069,
   "metadata": {
    "pycharm": {
     "name": "#%%\n"
    }
   },
   "outputs": [
    {
     "data": {
      "text/plain": [
       "array([[<matplotlib.axes._subplots.AxesSubplot object at 0x000001EB969CF4C0>,\n",
       "        <matplotlib.axes._subplots.AxesSubplot object at 0x000001EB969D5CD0>],\n",
       "       [<matplotlib.axes._subplots.AxesSubplot object at 0x000001EB96A97910>,\n",
       "        <matplotlib.axes._subplots.AxesSubplot object at 0x000001EB96ACDEE0>]],\n",
       "      dtype=object)"
      ]
     },
     "execution_count": 1069,
     "metadata": {},
     "output_type": "execute_result"
    },
    {
     "data": {
      "image/png": "[encoded data removed]",
      "text/plain": [
       "<Figure size 640x480 with 4 Axes>"
      ]
     },
     "metadata": {},
     "output_type": "display_data"
    }
   ],
   "source": [
    "#create histogram for each team\n",
    "df.hist(column=[\"содержание серы-(химия)\",\"плотность-(химия)\",\"вязкость-(химия)\",\"процент неразд. эмульсии-(химия)\",],bins= 3)"
   ]
  },
  {
   "cell_type": "code",
   "execution_count": 1070,
   "metadata": {
    "pycharm": {
     "name": "#%%\n"
    }
   },
   "outputs": [
    {
     "name": "stdout",
     "output_type": "stream",
     "text": [
      "<class 'pandas.core.frame.DataFrame'>\n",
      "Int64Index: 1000 entries, 766 to 751\n",
      "Data columns (total 18 columns):\n",
      " #   Column                            Non-Null Count  Dtype  \n",
      "---  ------                            --------------  -----  \n",
      " 0   Ароматичность                     1000 non-null   float64\n",
      " 1   Алифатичность                     1000 non-null   float64\n",
      " 2   Разветвленность                   1000 non-null   float64\n",
      " 3   Окисленность                      1000 non-null   float64\n",
      " 4   содержание серы                   1000 non-null   float64\n",
      " 5   плотность                         1000 non-null   float64\n",
      " 6   вязкость                          1000 non-null   float64\n",
      " 7   процент неразд. эмульсии          1000 non-null   float64\n",
      " 8   класс химии                       1000 non-null   int64  \n",
      " 9   прооцент химии                    1000 non-null   int64  \n",
      " 10  Ароматичность-(химия)             1000 non-null   float64\n",
      " 11  Алифатичность-(химия)             1000 non-null   float64\n",
      " 12  Разветвленность-(химия)           1000 non-null   float64\n",
      " 13  Окисленность-(химия)              1000 non-null   float64\n",
      " 14  содержание серы-(химия)           1000 non-null   float64\n",
      " 15  плотность-(химия)                 1000 non-null   float64\n",
      " 16  вязкость-(химия)                  1000 non-null   float64\n",
      " 17  процент неразд. эмульсии-(химия)  1000 non-null   float64\n",
      "dtypes: float64(16), int64(2)\n",
      "memory usage: 148.4 KB\n"
     ]
    }
   ],
   "source": [
    "df.info()"
   ]
  },
  {
   "cell_type": "code",
   "execution_count": 1071,
   "metadata": {
    "pycharm": {
     "name": "#%%\n"
    }
   },
   "outputs": [
    {
     "data": {
      "text/html": [
       "<div>\n",
       "<style scoped>\n",
       "    .dataframe tbody tr th:only-of-type {\n",
       "        vertical-align: middle;\n",
       "    }\n",
       "\n",
       "    .dataframe tbody tr th {\n",
       "        vertical-align: top;\n",
       "    }\n",
       "\n",
       "    .dataframe thead th {\n",
       "        text-align: right;\n",
       "    }\n",
       "</style>\n",
       "<table border=\"1\" class=\"dataframe\">\n",
       "  <thead>\n",
       "    <tr style=\"text-align: right;\">\n",
       "      <th></th>\n",
       "      <th>Ароматичность</th>\n",
       "      <th>Алифатичность</th>\n",
       "      <th>Разветвленность</th>\n",
       "      <th>Окисленность</th>\n",
       "      <th>содержание серы</th>\n",
       "      <th>плотность</th>\n",
       "      <th>вязкость</th>\n",
       "      <th>процент неразд. эмульсии</th>\n",
       "      <th>Ароматичность-(химия)</th>\n",
       "      <th>Алифатичность-(химия)</th>\n",
       "      <th>Разветвленность-(химия)</th>\n",
       "      <th>Окисленность-(химия)</th>\n",
       "      <th>содержание серы-(химия)</th>\n",
       "      <th>плотность-(химия)</th>\n",
       "      <th>вязкость-(химия)</th>\n",
       "      <th>процент неразд. эмульсии-(химия)</th>\n",
       "    </tr>\n",
       "  </thead>\n",
       "  <tbody>\n",
       "    <tr>\n",
       "      <th>count</th>\n",
       "      <td>1000.000000</td>\n",
       "      <td>1000.000000</td>\n",
       "      <td>1000.000000</td>\n",
       "      <td>1000.000000</td>\n",
       "      <td>1000.000000</td>\n",
       "      <td>1000.000000</td>\n",
       "      <td>1000.000000</td>\n",
       "      <td>1000.000000</td>\n",
       "      <td>1000.000000</td>\n",
       "      <td>1000.000000</td>\n",
       "      <td>1000.000000</td>\n",
       "      <td>1000.000000</td>\n",
       "      <td>1000.000000</td>\n",
       "      <td>1000.000000</td>\n",
       "      <td>1000.000000</td>\n",
       "      <td>1000.000000</td>\n",
       "    </tr>\n",
       "    <tr>\n",
       "      <th>mean</th>\n",
       "      <td>0.629207</td>\n",
       "      <td>5.955916</td>\n",
       "      <td>0.826316</td>\n",
       "      <td>0.217015</td>\n",
       "      <td>2.411848</td>\n",
       "      <td>0.285599</td>\n",
       "      <td>0.101210</td>\n",
       "      <td>0.793142</td>\n",
       "      <td>10.820967</td>\n",
       "      <td>73.720257</td>\n",
       "      <td>10.264707</td>\n",
       "      <td>7.140744</td>\n",
       "      <td>32.901126</td>\n",
       "      <td>8.667690</td>\n",
       "      <td>3.051958</td>\n",
       "      <td>15.385412</td>\n",
       "    </tr>\n",
       "    <tr>\n",
       "      <th>std</th>\n",
       "      <td>0.263489</td>\n",
       "      <td>2.453143</td>\n",
       "      <td>1.239355</td>\n",
       "      <td>0.013026</td>\n",
       "      <td>0.982605</td>\n",
       "      <td>0.093073</td>\n",
       "      <td>0.029432</td>\n",
       "      <td>0.281974</td>\n",
       "      <td>14.882850</td>\n",
       "      <td>317.813467</td>\n",
       "      <td>20.057823</td>\n",
       "      <td>7.467898</td>\n",
       "      <td>127.287895</td>\n",
       "      <td>12.284316</td>\n",
       "      <td>2.971154</td>\n",
       "      <td>38.347061</td>\n",
       "    </tr>\n",
       "    <tr>\n",
       "      <th>min</th>\n",
       "      <td>0.119118</td>\n",
       "      <td>3.608744</td>\n",
       "      <td>0.101377</td>\n",
       "      <td>0.181907</td>\n",
       "      <td>1.477501</td>\n",
       "      <td>0.140482</td>\n",
       "      <td>0.040802</td>\n",
       "      <td>0.452743</td>\n",
       "      <td>0.390131</td>\n",
       "      <td>0.392070</td>\n",
       "      <td>0.445562</td>\n",
       "      <td>0.724597</td>\n",
       "      <td>0.391877</td>\n",
       "      <td>0.750566</td>\n",
       "      <td>0.536932</td>\n",
       "      <td>0.395637</td>\n",
       "    </tr>\n",
       "    <tr>\n",
       "      <th>25%</th>\n",
       "      <td>0.409977</td>\n",
       "      <td>4.633480</td>\n",
       "      <td>0.200492</td>\n",
       "      <td>0.208414</td>\n",
       "      <td>1.880361</td>\n",
       "      <td>0.226064</td>\n",
       "      <td>0.077093</td>\n",
       "      <td>0.634362</td>\n",
       "      <td>0.692358</td>\n",
       "      <td>0.812620</td>\n",
       "      <td>0.742978</td>\n",
       "      <td>0.750292</td>\n",
       "      <td>0.672371</td>\n",
       "      <td>0.856881</td>\n",
       "      <td>0.607550</td>\n",
       "      <td>0.819885</td>\n",
       "    </tr>\n",
       "    <tr>\n",
       "      <th>50%</th>\n",
       "      <td>0.631232</td>\n",
       "      <td>5.212596</td>\n",
       "      <td>0.363725</td>\n",
       "      <td>0.215140</td>\n",
       "      <td>2.116731</td>\n",
       "      <td>0.274244</td>\n",
       "      <td>0.100514</td>\n",
       "      <td>0.727065</td>\n",
       "      <td>7.793694</td>\n",
       "      <td>3.830980</td>\n",
       "      <td>1.299366</td>\n",
       "      <td>10.372591</td>\n",
       "      <td>3.266975</td>\n",
       "      <td>9.188700</td>\n",
       "      <td>3.025483</td>\n",
       "      <td>5.556627</td>\n",
       "    </tr>\n",
       "    <tr>\n",
       "      <th>75%</th>\n",
       "      <td>0.850211</td>\n",
       "      <td>6.379339</td>\n",
       "      <td>0.862247</td>\n",
       "      <td>0.224741</td>\n",
       "      <td>2.585324</td>\n",
       "      <td>0.321683</td>\n",
       "      <td>0.124742</td>\n",
       "      <td>0.857719</td>\n",
       "      <td>16.985811</td>\n",
       "      <td>16.037218</td>\n",
       "      <td>16.136606</td>\n",
       "      <td>11.798471</td>\n",
       "      <td>14.384962</td>\n",
       "      <td>12.280787</td>\n",
       "      <td>4.795116</td>\n",
       "      <td>16.359185</td>\n",
       "    </tr>\n",
       "    <tr>\n",
       "      <th>max</th>\n",
       "      <td>1.195654</td>\n",
       "      <td>34.968281</td>\n",
       "      <td>10.213946</td>\n",
       "      <td>0.274264</td>\n",
       "      <td>14.024992</td>\n",
       "      <td>1.241811</td>\n",
       "      <td>0.183618</td>\n",
       "      <td>3.977397</td>\n",
       "      <td>141.791773</td>\n",
       "      <td>2914.683429</td>\n",
       "      <td>232.085393</td>\n",
       "      <td>35.418140</td>\n",
       "      <td>1168.565774</td>\n",
       "      <td>100.533310</td>\n",
       "      <td>19.852185</td>\n",
       "      <td>332.494415</td>\n",
       "    </tr>\n",
       "  </tbody>\n",
       "</table>\n",
       "</div>"
      ],
      "text/plain": [
       "       Ароматичность  Алифатичность  Разветвленность  Окисленность  \\\n",
       "count    1000.000000    1000.000000      1000.000000   1000.000000   \n",
       "mean        0.629207       5.955916         0.826316      0.217015   \n",
       "std         0.263489       2.453143         1.239355      0.013026   \n",
       "min         0.119118       3.608744         0.101377      0.181907   \n",
       "25%         0.409977       4.633480         0.200492      0.208414   \n",
       "50%         0.631232       5.212596         0.363725      0.215140   \n",
       "75%         0.850211       6.379339         0.862247      0.224741   \n",
       "max         1.195654      34.968281        10.213946      0.274264   \n",
       "\n",
       "       содержание серы    плотность     вязкость  процент неразд. эмульсии  \\\n",
       "count      1000.000000  1000.000000  1000.000000               1000.000000   \n",
       "mean          2.411848     0.285599     0.101210                  0.793142   \n",
       "std           0.982605     0.093073     0.029432                  0.281974   \n",
       "min           1.477501     0.140482     0.040802                  0.452743   \n",
       "25%           1.880361     0.226064     0.077093                  0.634362   \n",
       "50%           2.116731     0.274244     0.100514                  0.727065   \n",
       "75%           2.585324     0.321683     0.124742                  0.857719   \n",
       "max          14.024992     1.241811     0.183618                  3.977397   \n",
       "\n",
       "       Ароматичность-(химия)  Алифатичность-(химия)  Разветвленность-(химия)  \\\n",
       "count            1000.000000            1000.000000              1000.000000   \n",
       "mean               10.820967              73.720257                10.264707   \n",
       "std                14.882850             317.813467                20.057823   \n",
       "min                 0.390131               0.392070                 0.445562   \n",
       "25%                 0.692358               0.812620                 0.742978   \n",
       "50%                 7.793694               3.830980                 1.299366   \n",
       "75%                16.985811              16.037218                16.136606   \n",
       "max               141.791773            2914.683429               232.085393   \n",
       "\n",
       "       Окисленность-(химия)  содержание серы-(химия)  плотность-(химия)  \\\n",
       "count           1000.000000              1000.000000        1000.000000   \n",
       "mean               7.140744                32.901126           8.667690   \n",
       "std                7.467898               127.287895          12.284316   \n",
       "min                0.724597                 0.391877           0.750566   \n",
       "25%                0.750292                 0.672371           0.856881   \n",
       "50%               10.372591                 3.266975           9.188700   \n",
       "75%               11.798471                14.384962          12.280787   \n",
       "max               35.418140              1168.565774         100.533310   \n",
       "\n",
       "       вязкость-(химия)  процент неразд. эмульсии-(химия)  \n",
       "count       1000.000000                       1000.000000  \n",
       "mean           3.051958                         15.385412  \n",
       "std            2.971154                         38.347061  \n",
       "min            0.536932                          0.395637  \n",
       "25%            0.607550                          0.819885  \n",
       "50%            3.025483                          5.556627  \n",
       "75%            4.795116                         16.359185  \n",
       "max           19.852185                        332.494415  "
      ]
     },
     "execution_count": 1071,
     "metadata": {},
     "output_type": "execute_result"
    }
   ],
   "source": [
    "# Описание данных без столбцов класса химии и процента химии\n",
    "df.describe(exclude=[\"int64\"])"
   ]
  },
  {
   "cell_type": "code",
   "execution_count": 1072,
   "metadata": {
    "pycharm": {
     "name": "#%%\n"
    }
   },
   "outputs": [
    {
     "name": "stdout",
     "output_type": "stream",
     "text": [
      "Разброс по кол-ву проделанных обработок по классу химии\n",
      "Класс 0 тренировочного набора 727\n",
      "Класс 1 тренировочного набора 73\n",
      "Класс 0 тестового набора 187\n",
      "Класс 1 тестового набора 13\n"
     ]
    }
   ],
   "source": [
    "print(\"Разброс по кол-ву проделанных обработок по классу химии\")\n",
    "\n",
    "print(\"Класс 0 тренировочного набора\",np.sum(df_train[\"класс химии\"]==0))\n",
    "print(\"Класс 1 тренировочного набора\",np.sum(df_train[\"класс химии\"]==1))\n",
    "\n",
    "print(\"Класс 0 тестового набора\",np.sum(df_valid[\"класс химии\"]==0))\n",
    "print(\"Класс 1 тестового набора\",np.sum(df_valid[\"класс химии\"]==1))"
   ]
  },
  {
   "attachments": {},
   "cell_type": "markdown",
   "metadata": {
    "pycharm": {
     "name": "#%% md\n"
    }
   },
   "source": [
    "Предсказываем нефть после обработки - 8 столбцов значений"
   ]
  },
  {
   "cell_type": "code",
   "execution_count": 1073,
   "metadata": {
    "pycharm": {
     "name": "#%%\n"
    }
   },
   "outputs": [
    {
     "name": "stdout",
     "output_type": "stream",
     "text": [
      "Fitting 5 folds for each of 8 candidates, totalling 40 fits\n",
      "[Pipeline] ................ (step 1 of 2) Processing tr, total=   0.0s\n",
      "[Pipeline] ............... (step 2 of 2) Processing reg, total=   0.0s\n",
      "[Pipeline] ................ (step 1 of 2) Processing tr, total=   0.0s\n",
      "[Pipeline] ............... (step 2 of 2) Processing reg, total=   0.0s\n",
      "Ошибка MAE 13.91\n",
      "Ошибка MSE 6541.8\n",
      "Ошибка RMSE 43.21\n",
      "Ошибка R2 0.8\n"
     ]
    }
   ],
   "source": [
    "# Кусок кода взят отсюда: https://scikit-physlearn.readthedocs.io/en/latest/quick_start.html\n",
    "\n",
    "bunch = load_linnerud(as_frame=True)  # returns a Bunch instance\n",
    "X, y = df_train.iloc[:,:10], df_train.iloc[:,10:]\n",
    "X_train, X_test, y_train, y_test = train_test_split(X, y,\n",
    "                                                    random_state=42)\n",
    "\n",
    "transformer_list = [('pca', PCA(n_components=1)),\n",
    "                    ('svd', TruncatedSVD(n_components=2))]\n",
    "union = FeatureUnion(transformer_list=transformer_list, n_jobs=-1)\n",
    "\n",
    "# Select a regressor, e.g., LGBMRegressor from LightGBM,\n",
    "# with a case-insensitive string.\n",
    "reg_odinary = Regressor(regressor_choice='lgbmregressor',\n",
    "                pipeline_transform=('tr', union),\n",
    "                scoring='neg_mean_absolute_error')\n",
    "\n",
    "# Automatically build the pipeline with final estimator MultiOutputRegressor\n",
    "# from Sklearn, then exhaustively search over the (hyper)parameters.\n",
    "search_params = dict(reg__boosting_type=['gbdt', 'goss'],\n",
    "                     reg__n_estimators=[6, 8, 10, 20])\n",
    "\n",
    "reg_odinary.search(X_train, y_train, search_params=search_params,\n",
    "           search_method='gridsearchcv')\n",
    "\n",
    "# Generate predictions with the refit regressor, then\n",
    "# compute the average mean absolute error.\n",
    "y_pred = reg_odinary.fit(X_train, y_train).predict(X_test)\n",
    "score = reg_odinary.score(y_test, y_pred)\n",
    "print(\"Ошибка MAE\", round(score['mae'].mean(),2))\n",
    "print(\"Ошибка MSE\", round(score['mse'].mean(),2))\n",
    "print(\"Ошибка RMSE\", round(score['rmse'].mean(),2))\n",
    "print(\"Ошибка R2\", round(score['r2'].mean(),2))"
   ]
  },
  {
   "cell_type": "code",
   "execution_count": 1074,
   "metadata": {
    "pycharm": {
     "name": "#%%\n"
    }
   },
   "outputs": [
    {
     "data": {
      "text/html": [
       "<div>\n",
       "<style scoped>\n",
       "    .dataframe tbody tr th:only-of-type {\n",
       "        vertical-align: middle;\n",
       "    }\n",
       "\n",
       "    .dataframe tbody tr th {\n",
       "        vertical-align: top;\n",
       "    }\n",
       "\n",
       "    .dataframe thead th {\n",
       "        text-align: right;\n",
       "    }\n",
       "</style>\n",
       "<table border=\"1\" class=\"dataframe\">\n",
       "  <thead>\n",
       "    <tr style=\"text-align: right;\">\n",
       "      <th></th>\n",
       "      <th>Ароматичность-(химия)</th>\n",
       "      <th>Алифатичность-(химия)</th>\n",
       "      <th>Разветвленность-(химия)</th>\n",
       "      <th>Окисленность-(химия)</th>\n",
       "      <th>содержание серы-(химия)</th>\n",
       "      <th>плотность-(химия)</th>\n",
       "      <th>вязкость-(химия)</th>\n",
       "      <th>процент неразд. эмульсии-(химия)</th>\n",
       "    </tr>\n",
       "  </thead>\n",
       "  <tbody>\n",
       "    <tr>\n",
       "      <th>791</th>\n",
       "      <td>2.580435</td>\n",
       "      <td>-2.637117</td>\n",
       "      <td>-0.612588</td>\n",
       "      <td>1.619576</td>\n",
       "      <td>-6.134170</td>\n",
       "      <td>1.606430</td>\n",
       "      <td>0.975633</td>\n",
       "      <td>-2.109087</td>\n",
       "    </tr>\n",
       "    <tr>\n",
       "      <th>216</th>\n",
       "      <td>53.014668</td>\n",
       "      <td>1061.105044</td>\n",
       "      <td>77.186042</td>\n",
       "      <td>27.116971</td>\n",
       "      <td>452.104153</td>\n",
       "      <td>45.456309</td>\n",
       "      <td>10.585846</td>\n",
       "      <td>140.201959</td>\n",
       "    </tr>\n",
       "    <tr>\n",
       "      <th>210</th>\n",
       "      <td>15.824592</td>\n",
       "      <td>1.836318</td>\n",
       "      <td>9.304136</td>\n",
       "      <td>11.795622</td>\n",
       "      <td>0.739382</td>\n",
       "      <td>14.772669</td>\n",
       "      <td>4.499250</td>\n",
       "      <td>7.890891</td>\n",
       "    </tr>\n",
       "    <tr>\n",
       "      <th>61</th>\n",
       "      <td>11.654559</td>\n",
       "      <td>16.128566</td>\n",
       "      <td>12.839892</td>\n",
       "      <td>11.209582</td>\n",
       "      <td>20.135157</td>\n",
       "      <td>10.002878</td>\n",
       "      <td>3.820137</td>\n",
       "      <td>18.976009</td>\n",
       "    </tr>\n",
       "    <tr>\n",
       "      <th>306</th>\n",
       "      <td>16.105080</td>\n",
       "      <td>15.362310</td>\n",
       "      <td>14.255133</td>\n",
       "      <td>10.480975</td>\n",
       "      <td>8.434066</td>\n",
       "      <td>11.183571</td>\n",
       "      <td>4.796035</td>\n",
       "      <td>12.940432</td>\n",
       "    </tr>\n",
       "  </tbody>\n",
       "</table>\n",
       "</div>"
      ],
      "text/plain": [
       "     Ароматичность-(химия)  Алифатичность-(химия)  Разветвленность-(химия)  \\\n",
       "791               2.580435              -2.637117                -0.612588   \n",
       "216              53.014668            1061.105044                77.186042   \n",
       "210              15.824592               1.836318                 9.304136   \n",
       "61               11.654559              16.128566                12.839892   \n",
       "306              16.105080              15.362310                14.255133   \n",
       "\n",
       "     Окисленность-(химия)  содержание серы-(химия)  плотность-(химия)  \\\n",
       "791              1.619576                -6.134170           1.606430   \n",
       "216             27.116971               452.104153          45.456309   \n",
       "210             11.795622                 0.739382          14.772669   \n",
       "61              11.209582                20.135157          10.002878   \n",
       "306             10.480975                 8.434066          11.183571   \n",
       "\n",
       "     вязкость-(химия)  процент неразд. эмульсии-(химия)  \n",
       "791          0.975633                         -2.109087  \n",
       "216         10.585846                        140.201959  \n",
       "210          4.499250                          7.890891  \n",
       "61           3.820137                         18.976009  \n",
       "306          4.796035                         12.940432  "
      ]
     },
     "execution_count": 1074,
     "metadata": {},
     "output_type": "execute_result"
    }
   ],
   "source": [
    "# Выведем предсказания\n",
    "y_pred.columns = y_test.columns\n",
    "y_pred.head()"
   ]
  },
  {
   "attachments": {},
   "cell_type": "markdown",
   "metadata": {
    "pycharm": {
     "name": "#%% md\n"
    }
   },
   "source": [
    "### Проведем простую нормализацию"
   ]
  },
  {
   "cell_type": "code",
   "execution_count": 1075,
   "metadata": {
    "pycharm": {
     "name": "#%%\n"
    }
   },
   "outputs": [],
   "source": [
    "from sklearn.preprocessing import MinMaxScaler\n",
    "scaler = MinMaxScaler()\n",
    "scaler.fit(df)\n",
    "df_scaled = pd.DataFrame(data=scaler.transform(df))\n",
    "df_scaled.columns = df.columns"
   ]
  },
  {
   "cell_type": "code",
   "execution_count": 1076,
   "metadata": {
    "pycharm": {
     "name": "#%%\n"
    }
   },
   "outputs": [
    {
     "data": {
      "text/html": [
       "<div>\n",
       "<style scoped>\n",
       "    .dataframe tbody tr th:only-of-type {\n",
       "        vertical-align: middle;\n",
       "    }\n",
       "\n",
       "    .dataframe tbody tr th {\n",
       "        vertical-align: top;\n",
       "    }\n",
       "\n",
       "    .dataframe thead th {\n",
       "        text-align: right;\n",
       "    }\n",
       "</style>\n",
       "<table border=\"1\" class=\"dataframe\">\n",
       "  <thead>\n",
       "    <tr style=\"text-align: right;\">\n",
       "      <th></th>\n",
       "      <th>Ароматичность</th>\n",
       "      <th>Алифатичность</th>\n",
       "      <th>Разветвленность</th>\n",
       "      <th>Окисленность</th>\n",
       "      <th>содержание серы</th>\n",
       "      <th>плотность</th>\n",
       "      <th>вязкость</th>\n",
       "      <th>процент неразд. эмульсии</th>\n",
       "      <th>класс химии</th>\n",
       "      <th>прооцент химии</th>\n",
       "      <th>Ароматичность-(химия)</th>\n",
       "      <th>Алифатичность-(химия)</th>\n",
       "      <th>Разветвленность-(химия)</th>\n",
       "      <th>Окисленность-(химия)</th>\n",
       "      <th>содержание серы-(химия)</th>\n",
       "      <th>плотность-(химия)</th>\n",
       "      <th>вязкость-(химия)</th>\n",
       "      <th>процент неразд. эмульсии-(химия)</th>\n",
       "    </tr>\n",
       "  </thead>\n",
       "  <tbody>\n",
       "    <tr>\n",
       "      <th>0</th>\n",
       "      <td>0.658798</td>\n",
       "      <td>0.043525</td>\n",
       "      <td>0.010862</td>\n",
       "      <td>0.337014</td>\n",
       "      <td>0.043112</td>\n",
       "      <td>0.122040</td>\n",
       "      <td>0.488895</td>\n",
       "      <td>0.052394</td>\n",
       "      <td>0.0</td>\n",
       "      <td>1.000000</td>\n",
       "      <td>0.002096</td>\n",
       "      <td>0.000016</td>\n",
       "      <td>0.001295</td>\n",
       "      <td>0.000680</td>\n",
       "      <td>0.000027</td>\n",
       "      <td>0.000785</td>\n",
       "      <td>0.002573</td>\n",
       "      <td>0.001562</td>\n",
       "    </tr>\n",
       "    <tr>\n",
       "      <th>1</th>\n",
       "      <td>0.782424</td>\n",
       "      <td>0.091259</td>\n",
       "      <td>0.005480</td>\n",
       "      <td>0.488287</td>\n",
       "      <td>0.091362</td>\n",
       "      <td>0.185043</td>\n",
       "      <td>0.630943</td>\n",
       "      <td>0.108590</td>\n",
       "      <td>0.0</td>\n",
       "      <td>1.000000</td>\n",
       "      <td>0.000493</td>\n",
       "      <td>0.000197</td>\n",
       "      <td>0.000939</td>\n",
       "      <td>0.001243</td>\n",
       "      <td>0.000456</td>\n",
       "      <td>0.001494</td>\n",
       "      <td>0.004342</td>\n",
       "      <td>0.000842</td>\n",
       "    </tr>\n",
       "    <tr>\n",
       "      <th>2</th>\n",
       "      <td>0.673872</td>\n",
       "      <td>0.038704</td>\n",
       "      <td>0.010067</td>\n",
       "      <td>0.311365</td>\n",
       "      <td>0.038674</td>\n",
       "      <td>0.126440</td>\n",
       "      <td>0.559241</td>\n",
       "      <td>0.059825</td>\n",
       "      <td>0.0</td>\n",
       "      <td>1.000000</td>\n",
       "      <td>0.001915</td>\n",
       "      <td>0.000104</td>\n",
       "      <td>0.001245</td>\n",
       "      <td>0.000583</td>\n",
       "      <td>0.000056</td>\n",
       "      <td>0.000842</td>\n",
       "      <td>0.003455</td>\n",
       "      <td>0.001497</td>\n",
       "    </tr>\n",
       "    <tr>\n",
       "      <th>3</th>\n",
       "      <td>0.849938</td>\n",
       "      <td>0.052815</td>\n",
       "      <td>0.003377</td>\n",
       "      <td>0.366651</td>\n",
       "      <td>0.053025</td>\n",
       "      <td>0.159179</td>\n",
       "      <td>0.660228</td>\n",
       "      <td>0.067372</td>\n",
       "      <td>0.0</td>\n",
       "      <td>1.000000</td>\n",
       "      <td>0.000436</td>\n",
       "      <td>0.000146</td>\n",
       "      <td>0.000790</td>\n",
       "      <td>0.000792</td>\n",
       "      <td>0.000213</td>\n",
       "      <td>0.001230</td>\n",
       "      <td>0.004701</td>\n",
       "      <td>0.001420</td>\n",
       "    </tr>\n",
       "    <tr>\n",
       "      <th>4</th>\n",
       "      <td>0.618520</td>\n",
       "      <td>0.046905</td>\n",
       "      <td>0.013233</td>\n",
       "      <td>0.354879</td>\n",
       "      <td>0.047809</td>\n",
       "      <td>0.146445</td>\n",
       "      <td>0.709479</td>\n",
       "      <td>0.106347</td>\n",
       "      <td>0.0</td>\n",
       "      <td>0.666667</td>\n",
       "      <td>0.002467</td>\n",
       "      <td>0.000047</td>\n",
       "      <td>0.001383</td>\n",
       "      <td>0.000401</td>\n",
       "      <td>0.000113</td>\n",
       "      <td>0.000930</td>\n",
       "      <td>0.004870</td>\n",
       "      <td>0.000849</td>\n",
       "    </tr>\n",
       "  </tbody>\n",
       "</table>\n",
       "</div>"
      ],
      "text/plain": [
       "   Ароматичность  Алифатичность  Разветвленность  Окисленность  \\\n",
       "0       0.658798       0.043525         0.010862      0.337014   \n",
       "1       0.782424       0.091259         0.005480      0.488287   \n",
       "2       0.673872       0.038704         0.010067      0.311365   \n",
       "3       0.849938       0.052815         0.003377      0.366651   \n",
       "4       0.618520       0.046905         0.013233      0.354879   \n",
       "\n",
       "   содержание серы  плотность  вязкость  процент неразд. эмульсии  \\\n",
       "0         0.043112   0.122040  0.488895                  0.052394   \n",
       "1         0.091362   0.185043  0.630943                  0.108590   \n",
       "2         0.038674   0.126440  0.559241                  0.059825   \n",
       "3         0.053025   0.159179  0.660228                  0.067372   \n",
       "4         0.047809   0.146445  0.709479                  0.106347   \n",
       "\n",
       "   класс химии  прооцент химии  Ароматичность-(химия)  Алифатичность-(химия)  \\\n",
       "0          0.0        1.000000               0.002096               0.000016   \n",
       "1          0.0        1.000000               0.000493               0.000197   \n",
       "2          0.0        1.000000               0.001915               0.000104   \n",
       "3          0.0        1.000000               0.000436               0.000146   \n",
       "4          0.0        0.666667               0.002467               0.000047   \n",
       "\n",
       "   Разветвленность-(химия)  Окисленность-(химия)  содержание серы-(химия)  \\\n",
       "0                 0.001295              0.000680                 0.000027   \n",
       "1                 0.000939              0.001243                 0.000456   \n",
       "2                 0.001245              0.000583                 0.000056   \n",
       "3                 0.000790              0.000792                 0.000213   \n",
       "4                 0.001383              0.000401                 0.000113   \n",
       "\n",
       "   плотность-(химия)  вязкость-(химия)  процент неразд. эмульсии-(химия)  \n",
       "0           0.000785          0.002573                          0.001562  \n",
       "1           0.001494          0.004342                          0.000842  \n",
       "2           0.000842          0.003455                          0.001497  \n",
       "3           0.001230          0.004701                          0.001420  \n",
       "4           0.000930          0.004870                          0.000849  "
      ]
     },
     "execution_count": 1076,
     "metadata": {},
     "output_type": "execute_result"
    }
   ],
   "source": [
    "df_train_scaled =df_scaled.iloc[:800,:] \n",
    "df_valid_scaled =df_scaled.iloc[800:,:] \n",
    "df_train_scaled.head()"
   ]
  },
  {
   "cell_type": "code",
   "execution_count": 1077,
   "metadata": {
    "pycharm": {
     "name": "#%%\n"
    }
   },
   "outputs": [
    {
     "name": "stdout",
     "output_type": "stream",
     "text": [
      "Fitting 5 folds for each of 8 candidates, totalling 40 fits\n",
      "[Pipeline] ................ (step 1 of 2) Processing tr, total=   0.0s\n",
      "[Pipeline] ............... (step 2 of 2) Processing reg, total=   0.0s\n",
      "[Pipeline] ................ (step 1 of 2) Processing tr, total=   0.0s\n",
      "[Pipeline] ............... (step 2 of 2) Processing reg, total=   0.0s\n",
      "Ошибка MAE 0.02\n",
      "Ошибка MSE 0.01\n",
      "Ошибка RMSE 0.07\n",
      "Ошибка R2 0.77\n"
     ]
    }
   ],
   "source": [
    "# Кусок кода взят отсюда: https://scikit-physlearn.readthedocs.io/en/latest/quick_start.html\n",
    "\n",
    "bunch = load_linnerud(as_frame=True)  # returns a Bunch instance\n",
    "X, y = df_train_scaled.iloc[:,:10], df_train_scaled.iloc[:,10:]\n",
    "X_train, X_test, y_train, y_test = train_test_split(X, y,\n",
    "                                                    random_state=42)\n",
    "\n",
    "# Select a regressor, e.g., LGBMRegressor from LightGBM,\n",
    "# with a case-insensitive string.\n",
    "reg_normalalized = Regressor(regressor_choice='lgbmregressor',\n",
    "                pipeline_transform=('tr', union),\n",
    "                scoring='neg_mean_absolute_error')\n",
    "\n",
    "reg_normalalized.search(X_train, y_train, search_params=search_params,\n",
    "           search_method='gridsearchcv')\n",
    "\n",
    "# Generate predictions with the refit regressor, then\n",
    "# compute the average mean absolute error.\n",
    "y_pred = reg_normalalized.fit(X_train, y_train).predict(X_test)\n",
    "score = reg_normalalized.score(y_test, y_pred)\n",
    "print(\"Ошибка MAE\", round(score['mae'].mean(),2))\n",
    "print(\"Ошибка MSE\", round(score['mse'].mean(),2))\n",
    "print(\"Ошибка RMSE\", round(score['rmse'].mean(),2))\n",
    "print(\"Ошибка R2\", round(score['r2'].mean(),2))"
   ]
  },
  {
   "cell_type": "code",
   "execution_count": 1078,
   "metadata": {
    "pycharm": {
     "name": "#%%\n"
    }
   },
   "outputs": [
    {
     "data": {
      "text/html": [
       "<div>\n",
       "<style scoped>\n",
       "    .dataframe tbody tr th:only-of-type {\n",
       "        vertical-align: middle;\n",
       "    }\n",
       "\n",
       "    .dataframe tbody tr th {\n",
       "        vertical-align: top;\n",
       "    }\n",
       "\n",
       "    .dataframe thead th {\n",
       "        text-align: right;\n",
       "    }\n",
       "</style>\n",
       "<table border=\"1\" class=\"dataframe\">\n",
       "  <thead>\n",
       "    <tr style=\"text-align: right;\">\n",
       "      <th></th>\n",
       "      <th>Ароматичность</th>\n",
       "      <th>Алифатичность</th>\n",
       "      <th>Разветвленность</th>\n",
       "      <th>Окисленность</th>\n",
       "      <th>содержание серы</th>\n",
       "      <th>плотность</th>\n",
       "      <th>вязкость</th>\n",
       "      <th>процент неразд. эмульсии</th>\n",
       "      <th>класс химии</th>\n",
       "      <th>прооцент химии</th>\n",
       "      <th>Ароматичность-(химия)</th>\n",
       "      <th>Алифатичность-(химия)</th>\n",
       "      <th>Разветвленность-(химия)</th>\n",
       "      <th>Окисленность-(химия)</th>\n",
       "      <th>содержание серы-(химия)</th>\n",
       "      <th>плотность-(химия)</th>\n",
       "      <th>вязкость-(химия)</th>\n",
       "      <th>процент неразд. эмульсии-(химия)</th>\n",
       "    </tr>\n",
       "  </thead>\n",
       "  <tbody>\n",
       "    <tr>\n",
       "      <th>0</th>\n",
       "      <td>0.995611</td>\n",
       "      <td>9.794143</td>\n",
       "      <td>0.146208</td>\n",
       "      <td>0.242102</td>\n",
       "      <td>3.949103</td>\n",
       "      <td>0.442749</td>\n",
       "      <td>0.125601</td>\n",
       "      <td>1.155972</td>\n",
       "      <td>1.0</td>\n",
       "      <td>20.0</td>\n",
       "      <td>0.051211</td>\n",
       "      <td>-23.719452</td>\n",
       "      <td>2.258382</td>\n",
       "      <td>2.483869</td>\n",
       "      <td>-6.863925</td>\n",
       "      <td>2.966720</td>\n",
       "      <td>1.414860</td>\n",
       "      <td>2.251478</td>\n",
       "    </tr>\n",
       "    <tr>\n",
       "      <th>1</th>\n",
       "      <td>0.492534</td>\n",
       "      <td>10.160993</td>\n",
       "      <td>0.597419</td>\n",
       "      <td>0.237983</td>\n",
       "      <td>4.081939</td>\n",
       "      <td>0.383771</td>\n",
       "      <td>0.075395</td>\n",
       "      <td>1.192442</td>\n",
       "      <td>1.0</td>\n",
       "      <td>5.0</td>\n",
       "      <td>50.833537</td>\n",
       "      <td>1131.896680</td>\n",
       "      <td>85.207665</td>\n",
       "      <td>28.956147</td>\n",
       "      <td>454.566112</td>\n",
       "      <td>43.855383</td>\n",
       "      <td>10.957026</td>\n",
       "      <td>140.789717</td>\n",
       "    </tr>\n",
       "    <tr>\n",
       "      <th>2</th>\n",
       "      <td>0.397162</td>\n",
       "      <td>5.848621</td>\n",
       "      <td>0.918790</td>\n",
       "      <td>0.219785</td>\n",
       "      <td>2.362916</td>\n",
       "      <td>0.251000</td>\n",
       "      <td>0.079871</td>\n",
       "      <td>0.787791</td>\n",
       "      <td>0.0</td>\n",
       "      <td>5.0</td>\n",
       "      <td>17.293161</td>\n",
       "      <td>19.469467</td>\n",
       "      <td>6.348888</td>\n",
       "      <td>12.435830</td>\n",
       "      <td>17.863723</td>\n",
       "      <td>12.873769</td>\n",
       "      <td>5.115655</td>\n",
       "      <td>7.625078</td>\n",
       "    </tr>\n",
       "    <tr>\n",
       "      <th>3</th>\n",
       "      <td>0.184008</td>\n",
       "      <td>3.970106</td>\n",
       "      <td>4.280330</td>\n",
       "      <td>0.194490</td>\n",
       "      <td>1.608745</td>\n",
       "      <td>0.155941</td>\n",
       "      <td>0.046553</td>\n",
       "      <td>0.508263</td>\n",
       "      <td>0.0</td>\n",
       "      <td>5.0</td>\n",
       "      <td>10.540236</td>\n",
       "      <td>15.549005</td>\n",
       "      <td>11.675521</td>\n",
       "      <td>11.174435</td>\n",
       "      <td>20.627744</td>\n",
       "      <td>9.679714</td>\n",
       "      <td>3.482597</td>\n",
       "      <td>19.542499</td>\n",
       "    </tr>\n",
       "    <tr>\n",
       "      <th>4</th>\n",
       "      <td>0.449189</td>\n",
       "      <td>5.130412</td>\n",
       "      <td>0.718279</td>\n",
       "      <td>0.215471</td>\n",
       "      <td>2.068625</td>\n",
       "      <td>0.222677</td>\n",
       "      <td>0.068408</td>\n",
       "      <td>0.627429</td>\n",
       "      <td>0.0</td>\n",
       "      <td>10.0</td>\n",
       "      <td>16.203172</td>\n",
       "      <td>16.919925</td>\n",
       "      <td>13.326291</td>\n",
       "      <td>10.319935</td>\n",
       "      <td>9.161834</td>\n",
       "      <td>10.950076</td>\n",
       "      <td>4.017322</td>\n",
       "      <td>14.771801</td>\n",
       "    </tr>\n",
       "    <tr>\n",
       "      <th>...</th>\n",
       "      <td>...</td>\n",
       "      <td>...</td>\n",
       "      <td>...</td>\n",
       "      <td>...</td>\n",
       "      <td>...</td>\n",
       "      <td>...</td>\n",
       "      <td>...</td>\n",
       "      <td>...</td>\n",
       "      <td>...</td>\n",
       "      <td>...</td>\n",
       "      <td>...</td>\n",
       "      <td>...</td>\n",
       "      <td>...</td>\n",
       "      <td>...</td>\n",
       "      <td>...</td>\n",
       "      <td>...</td>\n",
       "      <td>...</td>\n",
       "      <td>...</td>\n",
       "    </tr>\n",
       "    <tr>\n",
       "      <th>195</th>\n",
       "      <td>0.706395</td>\n",
       "      <td>5.272102</td>\n",
       "      <td>0.290439</td>\n",
       "      <td>0.217215</td>\n",
       "      <td>2.135093</td>\n",
       "      <td>0.268239</td>\n",
       "      <td>0.100426</td>\n",
       "      <td>0.678074</td>\n",
       "      <td>0.0</td>\n",
       "      <td>15.0</td>\n",
       "      <td>1.984327</td>\n",
       "      <td>8.614155</td>\n",
       "      <td>1.974299</td>\n",
       "      <td>1.481114</td>\n",
       "      <td>4.087703</td>\n",
       "      <td>1.707068</td>\n",
       "      <td>0.852390</td>\n",
       "      <td>2.472454</td>\n",
       "    </tr>\n",
       "    <tr>\n",
       "      <th>196</th>\n",
       "      <td>0.336325</td>\n",
       "      <td>5.134981</td>\n",
       "      <td>1.281243</td>\n",
       "      <td>0.213243</td>\n",
       "      <td>2.080918</td>\n",
       "      <td>0.227876</td>\n",
       "      <td>0.081915</td>\n",
       "      <td>0.748967</td>\n",
       "      <td>0.0</td>\n",
       "      <td>5.0</td>\n",
       "      <td>17.370018</td>\n",
       "      <td>20.721854</td>\n",
       "      <td>10.688625</td>\n",
       "      <td>12.229721</td>\n",
       "      <td>12.753909</td>\n",
       "      <td>13.223430</td>\n",
       "      <td>5.083673</td>\n",
       "      <td>13.901687</td>\n",
       "    </tr>\n",
       "    <tr>\n",
       "      <th>197</th>\n",
       "      <td>0.370462</td>\n",
       "      <td>4.205885</td>\n",
       "      <td>1.056000</td>\n",
       "      <td>0.203835</td>\n",
       "      <td>1.703910</td>\n",
       "      <td>0.194290</td>\n",
       "      <td>0.072646</td>\n",
       "      <td>0.586546</td>\n",
       "      <td>0.0</td>\n",
       "      <td>10.0</td>\n",
       "      <td>15.704960</td>\n",
       "      <td>20.092693</td>\n",
       "      <td>6.622286</td>\n",
       "      <td>10.098546</td>\n",
       "      <td>14.646490</td>\n",
       "      <td>10.135089</td>\n",
       "      <td>3.977719</td>\n",
       "      <td>16.702835</td>\n",
       "    </tr>\n",
       "    <tr>\n",
       "      <th>198</th>\n",
       "      <td>0.553637</td>\n",
       "      <td>6.580074</td>\n",
       "      <td>0.472825</td>\n",
       "      <td>0.226643</td>\n",
       "      <td>2.678749</td>\n",
       "      <td>0.328183</td>\n",
       "      <td>0.135533</td>\n",
       "      <td>1.070426</td>\n",
       "      <td>0.0</td>\n",
       "      <td>10.0</td>\n",
       "      <td>15.336589</td>\n",
       "      <td>16.464609</td>\n",
       "      <td>17.092368</td>\n",
       "      <td>11.266268</td>\n",
       "      <td>16.478279</td>\n",
       "      <td>14.180337</td>\n",
       "      <td>5.464769</td>\n",
       "      <td>12.831636</td>\n",
       "    </tr>\n",
       "    <tr>\n",
       "      <th>199</th>\n",
       "      <td>0.433877</td>\n",
       "      <td>8.779562</td>\n",
       "      <td>0.769871</td>\n",
       "      <td>0.232346</td>\n",
       "      <td>3.537697</td>\n",
       "      <td>0.349165</td>\n",
       "      <td>0.088285</td>\n",
       "      <td>1.133595</td>\n",
       "      <td>1.0</td>\n",
       "      <td>5.0</td>\n",
       "      <td>50.833537</td>\n",
       "      <td>1131.896680</td>\n",
       "      <td>85.207665</td>\n",
       "      <td>28.956147</td>\n",
       "      <td>454.566112</td>\n",
       "      <td>43.855383</td>\n",
       "      <td>10.957026</td>\n",
       "      <td>140.789717</td>\n",
       "    </tr>\n",
       "  </tbody>\n",
       "</table>\n",
       "<p>200 rows × 18 columns</p>\n",
       "</div>"
      ],
      "text/plain": [
       "     Ароматичность  Алифатичность  Разветвленность  Окисленность  \\\n",
       "0         0.995611       9.794143         0.146208      0.242102   \n",
       "1         0.492534      10.160993         0.597419      0.237983   \n",
       "2         0.397162       5.848621         0.918790      0.219785   \n",
       "3         0.184008       3.970106         4.280330      0.194490   \n",
       "4         0.449189       5.130412         0.718279      0.215471   \n",
       "..             ...            ...              ...           ...   \n",
       "195       0.706395       5.272102         0.290439      0.217215   \n",
       "196       0.336325       5.134981         1.281243      0.213243   \n",
       "197       0.370462       4.205885         1.056000      0.203835   \n",
       "198       0.553637       6.580074         0.472825      0.226643   \n",
       "199       0.433877       8.779562         0.769871      0.232346   \n",
       "\n",
       "     содержание серы  плотность  вязкость  процент неразд. эмульсии  \\\n",
       "0           3.949103   0.442749  0.125601                  1.155972   \n",
       "1           4.081939   0.383771  0.075395                  1.192442   \n",
       "2           2.362916   0.251000  0.079871                  0.787791   \n",
       "3           1.608745   0.155941  0.046553                  0.508263   \n",
       "4           2.068625   0.222677  0.068408                  0.627429   \n",
       "..               ...        ...       ...                       ...   \n",
       "195         2.135093   0.268239  0.100426                  0.678074   \n",
       "196         2.080918   0.227876  0.081915                  0.748967   \n",
       "197         1.703910   0.194290  0.072646                  0.586546   \n",
       "198         2.678749   0.328183  0.135533                  1.070426   \n",
       "199         3.537697   0.349165  0.088285                  1.133595   \n",
       "\n",
       "     класс химии  прооцент химии  Ароматичность-(химия)  \\\n",
       "0            1.0            20.0               0.051211   \n",
       "1            1.0             5.0              50.833537   \n",
       "2            0.0             5.0              17.293161   \n",
       "3            0.0             5.0              10.540236   \n",
       "4            0.0            10.0              16.203172   \n",
       "..           ...             ...                    ...   \n",
       "195          0.0            15.0               1.984327   \n",
       "196          0.0             5.0              17.370018   \n",
       "197          0.0            10.0              15.704960   \n",
       "198          0.0            10.0              15.336589   \n",
       "199          1.0             5.0              50.833537   \n",
       "\n",
       "     Алифатичность-(химия)  Разветвленность-(химия)  Окисленность-(химия)  \\\n",
       "0               -23.719452                 2.258382              2.483869   \n",
       "1              1131.896680                85.207665             28.956147   \n",
       "2                19.469467                 6.348888             12.435830   \n",
       "3                15.549005                11.675521             11.174435   \n",
       "4                16.919925                13.326291             10.319935   \n",
       "..                     ...                      ...                   ...   \n",
       "195               8.614155                 1.974299              1.481114   \n",
       "196              20.721854                10.688625             12.229721   \n",
       "197              20.092693                 6.622286             10.098546   \n",
       "198              16.464609                17.092368             11.266268   \n",
       "199            1131.896680                85.207665             28.956147   \n",
       "\n",
       "     содержание серы-(химия)  плотность-(химия)  вязкость-(химия)  \\\n",
       "0                  -6.863925           2.966720          1.414860   \n",
       "1                 454.566112          43.855383         10.957026   \n",
       "2                  17.863723          12.873769          5.115655   \n",
       "3                  20.627744           9.679714          3.482597   \n",
       "4                   9.161834          10.950076          4.017322   \n",
       "..                       ...                ...               ...   \n",
       "195                 4.087703           1.707068          0.852390   \n",
       "196                12.753909          13.223430          5.083673   \n",
       "197                14.646490          10.135089          3.977719   \n",
       "198                16.478279          14.180337          5.464769   \n",
       "199               454.566112          43.855383         10.957026   \n",
       "\n",
       "     процент неразд. эмульсии-(химия)  \n",
       "0                            2.251478  \n",
       "1                          140.789717  \n",
       "2                            7.625078  \n",
       "3                           19.542499  \n",
       "4                           14.771801  \n",
       "..                                ...  \n",
       "195                          2.472454  \n",
       "196                         13.901687  \n",
       "197                         16.702835  \n",
       "198                         12.831636  \n",
       "199                        140.789717  \n",
       "\n",
       "[200 rows x 18 columns]"
      ]
     },
     "execution_count": 1078,
     "metadata": {},
     "output_type": "execute_result"
    }
   ],
   "source": [
    "# Восстановление изначальных данных до нормализации\n",
    "predictions = pd.concat([X_test,y_pred],axis=1)\n",
    "df_predictions = pd.DataFrame(data = scaler.inverse_transform(predictions))\n",
    "df_predictions.columns = df.columns\n",
    "df_predictions"
   ]
  },
  {
   "cell_type": "code",
   "execution_count": 1079,
   "metadata": {
    "pycharm": {
     "name": "#%%\n"
    }
   },
   "outputs": [
    {
     "name": "stdout",
     "output_type": "stream",
     "text": [
      "MAE 7.478610191743583\n",
      "MSE 3746.910000179395\n",
      "RMSE 61.21200862722441\n",
      "R2 0.8109602098605613\n"
     ]
    }
   ],
   "source": [
    "# Проверяем метрику MAE нормализация\n",
    "from sklearn.metrics import mean_absolute_error\n",
    "from sklearn.metrics import r2_score\n",
    "from sklearn.metrics import mean_squared_error\n",
    "\n",
    "y_true = df_valid.iloc[:,10:]\n",
    "data_valid_scaled = scaler.transform(df_valid)\n",
    "data_valid_scaled = pd.DataFrame(data=data_valid_scaled)\n",
    "y_pred = reg_normalalized.predict(data_valid_scaled.iloc[:,:10])\n",
    "\n",
    "predictions = pd.concat([data_valid_scaled.iloc[:,:10],y_pred],axis=1)\n",
    "df_predictions = pd.DataFrame(data = scaler.inverse_transform(predictions))\n",
    "df_predictions.columns = df.columns\n",
    "print(\"MAE\", mean_absolute_error(y_true, df_predictions.iloc[:,10:]))\n",
    "print(\"MSE\", mean_squared_error(y_true, df_predictions.iloc[:,10:]))\n",
    "print(\"RMSE\", np.sqrt(mean_squared_error(y_true, df_predictions.iloc[:,10:])))\n",
    "print(\"R2\", r2_score(y_true, df_predictions.iloc[:,10:]))\n"
   ]
  },
  {
   "attachments": {},
   "cell_type": "markdown",
   "metadata": {
    "pycharm": {
     "name": "#%% md\n"
    }
   },
   "source": [
    "### Используем стандартизацию"
   ]
  },
  {
   "cell_type": "code",
   "execution_count": 1080,
   "metadata": {
    "pycharm": {
     "name": "#%%\n"
    }
   },
   "outputs": [],
   "source": [
    "from sklearn.preprocessing import StandardScaler\n",
    "scaler_standard = StandardScaler()\n",
    "scaler_standard.fit(df)\n",
    "df_scaled_standard = pd.DataFrame(data=scaler_standard.transform(df))\n",
    "df_scaled_standard.columns = df.columns"
   ]
  },
  {
   "cell_type": "code",
   "execution_count": 1081,
   "metadata": {
    "pycharm": {
     "name": "#%%\n"
    }
   },
   "outputs": [
    {
     "data": {
      "text/html": [
       "<div>\n",
       "<style scoped>\n",
       "    .dataframe tbody tr th:only-of-type {\n",
       "        vertical-align: middle;\n",
       "    }\n",
       "\n",
       "    .dataframe tbody tr th {\n",
       "        vertical-align: top;\n",
       "    }\n",
       "\n",
       "    .dataframe thead th {\n",
       "        text-align: right;\n",
       "    }\n",
       "</style>\n",
       "<table border=\"1\" class=\"dataframe\">\n",
       "  <thead>\n",
       "    <tr style=\"text-align: right;\">\n",
       "      <th></th>\n",
       "      <th>Ароматичность</th>\n",
       "      <th>Алифатичность</th>\n",
       "      <th>Разветвленность</th>\n",
       "      <th>Окисленность</th>\n",
       "      <th>содержание серы</th>\n",
       "      <th>плотность</th>\n",
       "      <th>вязкость</th>\n",
       "      <th>процент неразд. эмульсии</th>\n",
       "      <th>класс химии</th>\n",
       "      <th>прооцент химии</th>\n",
       "      <th>Ароматичность-(химия)</th>\n",
       "      <th>Алифатичность-(химия)</th>\n",
       "      <th>Разветвленность-(химия)</th>\n",
       "      <th>Окисленность-(химия)</th>\n",
       "      <th>содержание серы-(химия)</th>\n",
       "      <th>плотность-(химия)</th>\n",
       "      <th>вязкость-(химия)</th>\n",
       "      <th>процент неразд. эмульсии-(химия)</th>\n",
       "    </tr>\n",
       "  </thead>\n",
       "  <tbody>\n",
       "    <tr>\n",
       "      <th>0</th>\n",
       "      <td>0.756121</td>\n",
       "      <td>-0.400602</td>\n",
       "      <td>-0.496551</td>\n",
       "      <td>-0.305932</td>\n",
       "      <td>-0.400569</td>\n",
       "      <td>-0.115145</td>\n",
       "      <td>0.320026</td>\n",
       "      <td>-0.552559</td>\n",
       "      <td>-0.306744</td>\n",
       "      <td>1.345586</td>\n",
       "      <td>-0.681291</td>\n",
       "      <td>-0.230699</td>\n",
       "      <td>-0.474820</td>\n",
       "      <td>-0.856433</td>\n",
       "      <td>-0.255279</td>\n",
       "      <td>-0.638434</td>\n",
       "      <td>-0.830168</td>\n",
       "      <td>-0.377559</td>\n",
       "    </tr>\n",
       "    <tr>\n",
       "      <th>1</th>\n",
       "      <td>1.261471</td>\n",
       "      <td>0.209905</td>\n",
       "      <td>-0.540491</td>\n",
       "      <td>0.767200</td>\n",
       "      <td>0.215880</td>\n",
       "      <td>0.630746</td>\n",
       "      <td>1.009642</td>\n",
       "      <td>0.150245</td>\n",
       "      <td>-0.306744</td>\n",
       "      <td>1.345586</td>\n",
       "      <td>-0.696530</td>\n",
       "      <td>-0.229039</td>\n",
       "      <td>-0.478940</td>\n",
       "      <td>-0.853817</td>\n",
       "      <td>-0.251343</td>\n",
       "      <td>-0.632673</td>\n",
       "      <td>-0.818660</td>\n",
       "      <td>-0.383797</td>\n",
       "    </tr>\n",
       "    <tr>\n",
       "      <th>2</th>\n",
       "      <td>0.817741</td>\n",
       "      <td>-0.462267</td>\n",
       "      <td>-0.503041</td>\n",
       "      <td>-0.487889</td>\n",
       "      <td>-0.457265</td>\n",
       "      <td>-0.063053</td>\n",
       "      <td>0.661545</td>\n",
       "      <td>-0.459628</td>\n",
       "      <td>-0.306744</td>\n",
       "      <td>1.345586</td>\n",
       "      <td>-0.683014</td>\n",
       "      <td>-0.229887</td>\n",
       "      <td>-0.475399</td>\n",
       "      <td>-0.856885</td>\n",
       "      <td>-0.255012</td>\n",
       "      <td>-0.637973</td>\n",
       "      <td>-0.824433</td>\n",
       "      <td>-0.378123</td>\n",
       "    </tr>\n",
       "    <tr>\n",
       "      <th>3</th>\n",
       "      <td>1.537449</td>\n",
       "      <td>-0.281787</td>\n",
       "      <td>-0.557658</td>\n",
       "      <td>-0.095689</td>\n",
       "      <td>-0.273916</td>\n",
       "      <td>0.324541</td>\n",
       "      <td>1.151817</td>\n",
       "      <td>-0.365232</td>\n",
       "      <td>-0.306744</td>\n",
       "      <td>1.345586</td>\n",
       "      <td>-0.697072</td>\n",
       "      <td>-0.229505</td>\n",
       "      <td>-0.480664</td>\n",
       "      <td>-0.855913</td>\n",
       "      <td>-0.253573</td>\n",
       "      <td>-0.634814</td>\n",
       "      <td>-0.816326</td>\n",
       "      <td>-0.378787</td>\n",
       "    </tr>\n",
       "    <tr>\n",
       "      <th>4</th>\n",
       "      <td>0.591475</td>\n",
       "      <td>-0.357380</td>\n",
       "      <td>-0.477193</td>\n",
       "      <td>-0.179196</td>\n",
       "      <td>-0.340556</td>\n",
       "      <td>0.173786</td>\n",
       "      <td>1.390923</td>\n",
       "      <td>0.122187</td>\n",
       "      <td>-0.306744</td>\n",
       "      <td>0.449723</td>\n",
       "      <td>-0.677762</td>\n",
       "      <td>-0.230414</td>\n",
       "      <td>-0.473809</td>\n",
       "      <td>-0.857728</td>\n",
       "      <td>-0.254486</td>\n",
       "      <td>-0.637257</td>\n",
       "      <td>-0.815228</td>\n",
       "      <td>-0.383733</td>\n",
       "    </tr>\n",
       "  </tbody>\n",
       "</table>\n",
       "</div>"
      ],
      "text/plain": [
       "   Ароматичность  Алифатичность  Разветвленность  Окисленность  \\\n",
       "0       0.756121      -0.400602        -0.496551     -0.305932   \n",
       "1       1.261471       0.209905        -0.540491      0.767200   \n",
       "2       0.817741      -0.462267        -0.503041     -0.487889   \n",
       "3       1.537449      -0.281787        -0.557658     -0.095689   \n",
       "4       0.591475      -0.357380        -0.477193     -0.179196   \n",
       "\n",
       "   содержание серы  плотность  вязкость  процент неразд. эмульсии  \\\n",
       "0        -0.400569  -0.115145  0.320026                 -0.552559   \n",
       "1         0.215880   0.630746  1.009642                  0.150245   \n",
       "2        -0.457265  -0.063053  0.661545                 -0.459628   \n",
       "3        -0.273916   0.324541  1.151817                 -0.365232   \n",
       "4        -0.340556   0.173786  1.390923                  0.122187   \n",
       "\n",
       "   класс химии  прооцент химии  Ароматичность-(химия)  Алифатичность-(химия)  \\\n",
       "0    -0.306744        1.345586              -0.681291              -0.230699   \n",
       "1    -0.306744        1.345586              -0.696530              -0.229039   \n",
       "2    -0.306744        1.345586              -0.683014              -0.229887   \n",
       "3    -0.306744        1.345586              -0.697072              -0.229505   \n",
       "4    -0.306744        0.449723              -0.677762              -0.230414   \n",
       "\n",
       "   Разветвленность-(химия)  Окисленность-(химия)  содержание серы-(химия)  \\\n",
       "0                -0.474820             -0.856433                -0.255279   \n",
       "1                -0.478940             -0.853817                -0.251343   \n",
       "2                -0.475399             -0.856885                -0.255012   \n",
       "3                -0.480664             -0.855913                -0.253573   \n",
       "4                -0.473809             -0.857728                -0.254486   \n",
       "\n",
       "   плотность-(химия)  вязкость-(химия)  процент неразд. эмульсии-(химия)  \n",
       "0          -0.638434         -0.830168                         -0.377559  \n",
       "1          -0.632673         -0.818660                         -0.383797  \n",
       "2          -0.637973         -0.824433                         -0.378123  \n",
       "3          -0.634814         -0.816326                         -0.378787  \n",
       "4          -0.637257         -0.815228                         -0.383733  "
      ]
     },
     "execution_count": 1081,
     "metadata": {},
     "output_type": "execute_result"
    }
   ],
   "source": [
    "df_train_scaled_standard =df_scaled_standard.iloc[:800,:] \n",
    "df_valid_scaled_standard =df_scaled_standard.iloc[800:,:] \n",
    "df_train_scaled_standard.head()"
   ]
  },
  {
   "cell_type": "code",
   "execution_count": 1082,
   "metadata": {
    "pycharm": {
     "name": "#%%\n"
    }
   },
   "outputs": [
    {
     "name": "stdout",
     "output_type": "stream",
     "text": [
      "Fitting 5 folds for each of 8 candidates, totalling 40 fits\n",
      "[Pipeline] ................ (step 1 of 2) Processing tr, total=   0.0s\n",
      "[Pipeline] ............... (step 2 of 2) Processing reg, total=   0.0s\n",
      "[Pipeline] ................ (step 1 of 2) Processing tr, total=   0.0s\n",
      "[Pipeline] ............... (step 2 of 2) Processing reg, total=   0.0s\n",
      "Ошибка MAE 0.27\n",
      "Ошибка MSE 0.57\n",
      "Ошибка RMSE 0.75\n",
      "Ошибка R2 0.62\n"
     ]
    }
   ],
   "source": [
    "# Кусок кода взят отсюда: https://scikit-physlearn.readthedocs.io/en/latest/quick_start.html\n",
    "\n",
    "bunch = load_linnerud(as_frame=True)  # returns a Bunch instance\n",
    "X, y = df_train_scaled_standard.iloc[:,:10], df_train_scaled_standard.iloc[:,10:]\n",
    "X_train, X_test, y_train, y_test = train_test_split(X, y,\n",
    "                                                    random_state=42)\n",
    "\n",
    "# Select a regressor, e.g., LGBMRegressor from LightGBM,\n",
    "# with a case-insensitive string.\n",
    "reg_standardized = Regressor(regressor_choice='lgbmregressor',\n",
    "                pipeline_transform=('tr', union),\n",
    "                scoring='neg_mean_absolute_error')\n",
    "\n",
    "reg_standardized.search(X_train, y_train, search_params=search_params,\n",
    "           search_method='gridsearchcv')\n",
    "\n",
    "# Generate predictions with the refit regressor, then\n",
    "# compute the average mean absolute error.\n",
    "y_pred = reg_standardized.fit(X_train, y_train).predict(X_test)\n",
    "score = reg_standardized.score(y_test, y_pred)\n",
    "print(\"Ошибка MAE\", round(score['mae'].mean(),2))\n",
    "print(\"Ошибка MSE\", round(score['mse'].mean(),2))\n",
    "print(\"Ошибка RMSE\", round(score['rmse'].mean(),2))\n",
    "print(\"Ошибка R2\", round(score['r2'].mean(),2))"
   ]
  },
  {
   "cell_type": "code",
   "execution_count": 1083,
   "metadata": {
    "pycharm": {
     "name": "#%%\n"
    }
   },
   "outputs": [
    {
     "data": {
      "text/html": [
       "<div>\n",
       "<style scoped>\n",
       "    .dataframe tbody tr th:only-of-type {\n",
       "        vertical-align: middle;\n",
       "    }\n",
       "\n",
       "    .dataframe tbody tr th {\n",
       "        vertical-align: top;\n",
       "    }\n",
       "\n",
       "    .dataframe thead th {\n",
       "        text-align: right;\n",
       "    }\n",
       "</style>\n",
       "<table border=\"1\" class=\"dataframe\">\n",
       "  <thead>\n",
       "    <tr style=\"text-align: right;\">\n",
       "      <th></th>\n",
       "      <th>Ароматичность</th>\n",
       "      <th>Алифатичность</th>\n",
       "      <th>Разветвленность</th>\n",
       "      <th>Окисленность</th>\n",
       "      <th>содержание серы</th>\n",
       "      <th>плотность</th>\n",
       "      <th>вязкость</th>\n",
       "      <th>процент неразд. эмульсии</th>\n",
       "      <th>класс химии</th>\n",
       "      <th>прооцент химии</th>\n",
       "      <th>Ароматичность-(химия)</th>\n",
       "      <th>Алифатичность-(химия)</th>\n",
       "      <th>Разветвленность-(химия)</th>\n",
       "      <th>Окисленность-(химия)</th>\n",
       "      <th>содержание серы-(химия)</th>\n",
       "      <th>плотность-(химия)</th>\n",
       "      <th>вязкость-(химия)</th>\n",
       "      <th>процент неразд. эмульсии-(химия)</th>\n",
       "    </tr>\n",
       "  </thead>\n",
       "  <tbody>\n",
       "    <tr>\n",
       "      <th>0</th>\n",
       "      <td>0.995611</td>\n",
       "      <td>9.794143</td>\n",
       "      <td>0.146208</td>\n",
       "      <td>0.242102</td>\n",
       "      <td>3.949103</td>\n",
       "      <td>0.442749</td>\n",
       "      <td>0.125601</td>\n",
       "      <td>1.155972</td>\n",
       "      <td>1.0</td>\n",
       "      <td>20.0</td>\n",
       "      <td>14.087188</td>\n",
       "      <td>46.368805</td>\n",
       "      <td>1.733384</td>\n",
       "      <td>3.631160</td>\n",
       "      <td>24.770986</td>\n",
       "      <td>4.856198</td>\n",
       "      <td>2.680371</td>\n",
       "      <td>12.316587</td>\n",
       "    </tr>\n",
       "    <tr>\n",
       "      <th>1</th>\n",
       "      <td>0.492534</td>\n",
       "      <td>10.160993</td>\n",
       "      <td>0.597419</td>\n",
       "      <td>0.237983</td>\n",
       "      <td>4.081939</td>\n",
       "      <td>0.383771</td>\n",
       "      <td>0.075395</td>\n",
       "      <td>1.192442</td>\n",
       "      <td>1.0</td>\n",
       "      <td>5.0</td>\n",
       "      <td>44.912550</td>\n",
       "      <td>1024.774810</td>\n",
       "      <td>76.616890</td>\n",
       "      <td>24.557595</td>\n",
       "      <td>413.843824</td>\n",
       "      <td>41.062999</td>\n",
       "      <td>9.303093</td>\n",
       "      <td>129.042197</td>\n",
       "    </tr>\n",
       "    <tr>\n",
       "      <th>2</th>\n",
       "      <td>0.397162</td>\n",
       "      <td>5.848621</td>\n",
       "      <td>0.918790</td>\n",
       "      <td>0.219785</td>\n",
       "      <td>2.362916</td>\n",
       "      <td>0.251000</td>\n",
       "      <td>0.079871</td>\n",
       "      <td>0.787791</td>\n",
       "      <td>0.0</td>\n",
       "      <td>5.0</td>\n",
       "      <td>17.895287</td>\n",
       "      <td>19.207772</td>\n",
       "      <td>8.904477</td>\n",
       "      <td>12.299841</td>\n",
       "      <td>16.902755</td>\n",
       "      <td>13.518620</td>\n",
       "      <td>5.057378</td>\n",
       "      <td>11.893360</td>\n",
       "    </tr>\n",
       "    <tr>\n",
       "      <th>3</th>\n",
       "      <td>0.184008</td>\n",
       "      <td>3.970106</td>\n",
       "      <td>4.280330</td>\n",
       "      <td>0.194490</td>\n",
       "      <td>1.608745</td>\n",
       "      <td>0.155941</td>\n",
       "      <td>0.046553</td>\n",
       "      <td>0.508263</td>\n",
       "      <td>0.0</td>\n",
       "      <td>5.0</td>\n",
       "      <td>7.483014</td>\n",
       "      <td>-48.623901</td>\n",
       "      <td>9.102412</td>\n",
       "      <td>9.800819</td>\n",
       "      <td>-8.177546</td>\n",
       "      <td>7.429426</td>\n",
       "      <td>3.179257</td>\n",
       "      <td>10.300401</td>\n",
       "    </tr>\n",
       "    <tr>\n",
       "      <th>4</th>\n",
       "      <td>0.449189</td>\n",
       "      <td>5.130412</td>\n",
       "      <td>0.718279</td>\n",
       "      <td>0.215471</td>\n",
       "      <td>2.068625</td>\n",
       "      <td>0.222677</td>\n",
       "      <td>0.068408</td>\n",
       "      <td>0.627429</td>\n",
       "      <td>0.0</td>\n",
       "      <td>10.0</td>\n",
       "      <td>15.824371</td>\n",
       "      <td>17.535103</td>\n",
       "      <td>9.909113</td>\n",
       "      <td>10.376013</td>\n",
       "      <td>11.206213</td>\n",
       "      <td>11.329120</td>\n",
       "      <td>4.218009</td>\n",
       "      <td>15.110316</td>\n",
       "    </tr>\n",
       "    <tr>\n",
       "      <th>...</th>\n",
       "      <td>...</td>\n",
       "      <td>...</td>\n",
       "      <td>...</td>\n",
       "      <td>...</td>\n",
       "      <td>...</td>\n",
       "      <td>...</td>\n",
       "      <td>...</td>\n",
       "      <td>...</td>\n",
       "      <td>...</td>\n",
       "      <td>...</td>\n",
       "      <td>...</td>\n",
       "      <td>...</td>\n",
       "      <td>...</td>\n",
       "      <td>...</td>\n",
       "      <td>...</td>\n",
       "      <td>...</td>\n",
       "      <td>...</td>\n",
       "      <td>...</td>\n",
       "    </tr>\n",
       "    <tr>\n",
       "      <th>195</th>\n",
       "      <td>0.706395</td>\n",
       "      <td>5.272102</td>\n",
       "      <td>0.290439</td>\n",
       "      <td>0.217215</td>\n",
       "      <td>2.135093</td>\n",
       "      <td>0.268239</td>\n",
       "      <td>0.100426</td>\n",
       "      <td>0.678074</td>\n",
       "      <td>0.0</td>\n",
       "      <td>15.0</td>\n",
       "      <td>2.148444</td>\n",
       "      <td>8.394153</td>\n",
       "      <td>2.030165</td>\n",
       "      <td>1.592243</td>\n",
       "      <td>4.020676</td>\n",
       "      <td>1.757107</td>\n",
       "      <td>0.870395</td>\n",
       "      <td>2.445425</td>\n",
       "    </tr>\n",
       "    <tr>\n",
       "      <th>196</th>\n",
       "      <td>0.336325</td>\n",
       "      <td>5.134981</td>\n",
       "      <td>1.281243</td>\n",
       "      <td>0.213243</td>\n",
       "      <td>2.080918</td>\n",
       "      <td>0.227876</td>\n",
       "      <td>0.081915</td>\n",
       "      <td>0.748967</td>\n",
       "      <td>0.0</td>\n",
       "      <td>5.0</td>\n",
       "      <td>17.201450</td>\n",
       "      <td>20.054165</td>\n",
       "      <td>11.116614</td>\n",
       "      <td>12.128698</td>\n",
       "      <td>9.953015</td>\n",
       "      <td>12.985878</td>\n",
       "      <td>4.910749</td>\n",
       "      <td>15.752770</td>\n",
       "    </tr>\n",
       "    <tr>\n",
       "      <th>197</th>\n",
       "      <td>0.370462</td>\n",
       "      <td>4.205885</td>\n",
       "      <td>1.056000</td>\n",
       "      <td>0.203835</td>\n",
       "      <td>1.703910</td>\n",
       "      <td>0.194290</td>\n",
       "      <td>0.072646</td>\n",
       "      <td>0.586546</td>\n",
       "      <td>0.0</td>\n",
       "      <td>10.0</td>\n",
       "      <td>16.539931</td>\n",
       "      <td>19.107248</td>\n",
       "      <td>8.164814</td>\n",
       "      <td>10.203060</td>\n",
       "      <td>15.995771</td>\n",
       "      <td>9.992108</td>\n",
       "      <td>3.912932</td>\n",
       "      <td>16.473802</td>\n",
       "    </tr>\n",
       "    <tr>\n",
       "      <th>198</th>\n",
       "      <td>0.553637</td>\n",
       "      <td>6.580074</td>\n",
       "      <td>0.472825</td>\n",
       "      <td>0.226643</td>\n",
       "      <td>2.678749</td>\n",
       "      <td>0.328183</td>\n",
       "      <td>0.135533</td>\n",
       "      <td>1.070426</td>\n",
       "      <td>0.0</td>\n",
       "      <td>10.0</td>\n",
       "      <td>14.026392</td>\n",
       "      <td>15.939084</td>\n",
       "      <td>14.566098</td>\n",
       "      <td>9.045277</td>\n",
       "      <td>11.887693</td>\n",
       "      <td>11.986025</td>\n",
       "      <td>5.178100</td>\n",
       "      <td>7.568503</td>\n",
       "    </tr>\n",
       "    <tr>\n",
       "      <th>199</th>\n",
       "      <td>0.433877</td>\n",
       "      <td>8.779562</td>\n",
       "      <td>0.769871</td>\n",
       "      <td>0.232346</td>\n",
       "      <td>3.537697</td>\n",
       "      <td>0.349165</td>\n",
       "      <td>0.088285</td>\n",
       "      <td>1.133595</td>\n",
       "      <td>1.0</td>\n",
       "      <td>5.0</td>\n",
       "      <td>32.776991</td>\n",
       "      <td>390.235205</td>\n",
       "      <td>42.963585</td>\n",
       "      <td>20.738932</td>\n",
       "      <td>162.658493</td>\n",
       "      <td>26.928511</td>\n",
       "      <td>7.362822</td>\n",
       "      <td>56.294470</td>\n",
       "    </tr>\n",
       "  </tbody>\n",
       "</table>\n",
       "<p>200 rows × 18 columns</p>\n",
       "</div>"
      ],
      "text/plain": [
       "     Ароматичность  Алифатичность  Разветвленность  Окисленность  \\\n",
       "0         0.995611       9.794143         0.146208      0.242102   \n",
       "1         0.492534      10.160993         0.597419      0.237983   \n",
       "2         0.397162       5.848621         0.918790      0.219785   \n",
       "3         0.184008       3.970106         4.280330      0.194490   \n",
       "4         0.449189       5.130412         0.718279      0.215471   \n",
       "..             ...            ...              ...           ...   \n",
       "195       0.706395       5.272102         0.290439      0.217215   \n",
       "196       0.336325       5.134981         1.281243      0.213243   \n",
       "197       0.370462       4.205885         1.056000      0.203835   \n",
       "198       0.553637       6.580074         0.472825      0.226643   \n",
       "199       0.433877       8.779562         0.769871      0.232346   \n",
       "\n",
       "     содержание серы  плотность  вязкость  процент неразд. эмульсии  \\\n",
       "0           3.949103   0.442749  0.125601                  1.155972   \n",
       "1           4.081939   0.383771  0.075395                  1.192442   \n",
       "2           2.362916   0.251000  0.079871                  0.787791   \n",
       "3           1.608745   0.155941  0.046553                  0.508263   \n",
       "4           2.068625   0.222677  0.068408                  0.627429   \n",
       "..               ...        ...       ...                       ...   \n",
       "195         2.135093   0.268239  0.100426                  0.678074   \n",
       "196         2.080918   0.227876  0.081915                  0.748967   \n",
       "197         1.703910   0.194290  0.072646                  0.586546   \n",
       "198         2.678749   0.328183  0.135533                  1.070426   \n",
       "199         3.537697   0.349165  0.088285                  1.133595   \n",
       "\n",
       "     класс химии  прооцент химии  Ароматичность-(химия)  \\\n",
       "0            1.0            20.0              14.087188   \n",
       "1            1.0             5.0              44.912550   \n",
       "2            0.0             5.0              17.895287   \n",
       "3            0.0             5.0               7.483014   \n",
       "4            0.0            10.0              15.824371   \n",
       "..           ...             ...                    ...   \n",
       "195          0.0            15.0               2.148444   \n",
       "196          0.0             5.0              17.201450   \n",
       "197          0.0            10.0              16.539931   \n",
       "198          0.0            10.0              14.026392   \n",
       "199          1.0             5.0              32.776991   \n",
       "\n",
       "     Алифатичность-(химия)  Разветвленность-(химия)  Окисленность-(химия)  \\\n",
       "0                46.368805                 1.733384              3.631160   \n",
       "1              1024.774810                76.616890             24.557595   \n",
       "2                19.207772                 8.904477             12.299841   \n",
       "3               -48.623901                 9.102412              9.800819   \n",
       "4                17.535103                 9.909113             10.376013   \n",
       "..                     ...                      ...                   ...   \n",
       "195               8.394153                 2.030165              1.592243   \n",
       "196              20.054165                11.116614             12.128698   \n",
       "197              19.107248                 8.164814             10.203060   \n",
       "198              15.939084                14.566098              9.045277   \n",
       "199             390.235205                42.963585             20.738932   \n",
       "\n",
       "     содержание серы-(химия)  плотность-(химия)  вязкость-(химия)  \\\n",
       "0                  24.770986           4.856198          2.680371   \n",
       "1                 413.843824          41.062999          9.303093   \n",
       "2                  16.902755          13.518620          5.057378   \n",
       "3                  -8.177546           7.429426          3.179257   \n",
       "4                  11.206213          11.329120          4.218009   \n",
       "..                       ...                ...               ...   \n",
       "195                 4.020676           1.757107          0.870395   \n",
       "196                 9.953015          12.985878          4.910749   \n",
       "197                15.995771           9.992108          3.912932   \n",
       "198                11.887693          11.986025          5.178100   \n",
       "199               162.658493          26.928511          7.362822   \n",
       "\n",
       "     процент неразд. эмульсии-(химия)  \n",
       "0                           12.316587  \n",
       "1                          129.042197  \n",
       "2                           11.893360  \n",
       "3                           10.300401  \n",
       "4                           15.110316  \n",
       "..                                ...  \n",
       "195                          2.445425  \n",
       "196                         15.752770  \n",
       "197                         16.473802  \n",
       "198                          7.568503  \n",
       "199                         56.294470  \n",
       "\n",
       "[200 rows x 18 columns]"
      ]
     },
     "execution_count": 1083,
     "metadata": {},
     "output_type": "execute_result"
    }
   ],
   "source": [
    "# Восстановление изначальных данных до нормализации\n",
    "predictions = pd.concat([X_test,y_pred],axis=1)\n",
    "df_predictions = pd.DataFrame(data = scaler_standard.inverse_transform(predictions))\n",
    "df_predictions.columns = df.columns\n",
    "df_predictions"
   ]
  },
  {
   "cell_type": "code",
   "execution_count": 1084,
   "metadata": {
    "pycharm": {
     "name": "#%%\n"
    }
   },
   "outputs": [
    {
     "name": "stdout",
     "output_type": "stream",
     "text": [
      "MAE 12.259922405917319\n",
      "MSE 7314.882271536071\n",
      "RMSE 85.5270850171808\n",
      "R2 0.5923726782572435\n"
     ]
    }
   ],
   "source": [
    "# Проверяем метрику MAE стандартизация\n",
    "from sklearn.metrics import mean_absolute_error\n",
    "y_true = df_valid.iloc[:,10:]\n",
    "data_valid_scaled = scaler_standard.transform(df_valid)\n",
    "data_valid_scaled = pd.DataFrame(data=data_valid_scaled)\n",
    "y_pred = reg_standardized.predict(data_valid_scaled.iloc[:,:10])\n",
    "\n",
    "predictions = pd.concat([data_valid_scaled.iloc[:,:10],y_pred],axis=1)\n",
    "df_predictions = pd.DataFrame(data = scaler_standard.inverse_transform(predictions))\n",
    "df_predictions.columns = df.columns\n",
    "print(\"MAE\", mean_absolute_error(y_true, df_predictions.iloc[:,10:]))\n",
    "print(\"MSE\", mean_squared_error(y_true, df_predictions.iloc[:,10:]))\n",
    "print(\"RMSE\", np.sqrt(mean_squared_error(y_true, df_predictions.iloc[:,10:])))\n",
    "print(\"R2\", r2_score(y_true, df_predictions.iloc[:,10:]))\n"
   ]
  },
  {
   "cell_type": "code",
   "execution_count": 1085,
   "metadata": {
    "pycharm": {
     "name": "#%%\n"
    }
   },
   "outputs": [],
   "source": [
    "# save the model above\n",
    "import pickle\n",
    "file_model = \"pickle_regression_model.pkl\"\n",
    "with open(file_model,'wb') as f:\n",
    "    pickle.dump(reg_odinary, f)"
   ]
  },
  {
   "cell_type": "code",
   "execution_count": null,
   "metadata": {
    "pycharm": {
     "name": "#%%\n"
    }
   },
   "outputs": [],
   "source": []
  },
  {
   "cell_type": "code",
   "execution_count": null,
   "metadata": {
    "pycharm": {
     "name": "#%%\n"
    }
   },
   "outputs": [],
   "source": []
  },
  {
   "cell_type": "code",
   "execution_count": null,
   "metadata": {
    "pycharm": {
     "name": "#%%\n"
    }
   },
   "outputs": [],
   "source": []
  },
  {
   "cell_type": "markdown",
   "metadata": {
    "pycharm": {
     "name": "#%% md\n"
    }
   },
   "source": [
    "Предсказываем химию полученной нефти на сгенерированных предсказаниях нефти после химии"
   ]
  },
  {
   "cell_type": "code",
   "execution_count": 109,
   "metadata": {
    "pycharm": {
     "name": "#%%\n"
    }
   },
   "outputs": [],
   "source": [
    "chemisrty_classes = [1, 2, 3, 4, 5, 6]\n",
    "percent_rate = [5, 10, 15, 20]\n",
    "input_excel = \"input_data.xlsx\"\n",
    "df = pd.read_excel(input_excel)\n",
    "\n",
    "# output df to excel concatenated with class and chemistry percent rate\n",
    "df_output = df.sample(frac=1).sample(n=5)"
   ]
  },
  {
   "cell_type": "code",
   "execution_count": 106,
   "metadata": {
    "pycharm": {
     "name": "#%%\n"
    }
   },
   "outputs": [],
   "source": [
    "for index in range(5):\n",
    "    data = pd.DataFrame(df_output.iloc[index, :]).transpose()\n",
    "    prediction_dict = dict()\n",
    "    for chm_class in np.sort(chemisrty_classes):\n",
    "        data[\"класс химии\"] = chm_class\n",
    "        for rate in np.sort(percent_rate):\n",
    "            data[\"процент химии\"] = rate\n",
    "            predictions = reg.predict(data).values\n",
    "            prediction_dict[f\"{chm_class}_{rate}_{index}\"] = predictions[0]\n",
    "\n",
    "    df_predictions = pd.DataFrame(prediction_dict.values())\n",
    "    df_predictions[\"class\"] = [int(key.split('_')[0]) for key in prediction_dict.keys()]\n",
    "    df_predictions[\"%rate\"] = [int(key.split('_')[1]) for key in prediction_dict.keys()]\n",
    "\n",
    "    # Забиваем идеальную нефть и вытаскиваем ближайшего соседа - то есть класс нефти и процент\n",
    "    # Это обратный подход, то есть мы как будто бы находим на самом деле какой класс и процент использовать,\n",
    "    # чтобы максимально приблизиться к \"Идеальному соотншению парметров в нефти\"\n",
    "\n",
    "    # targets - это слияние класса и процента химии\n",
    "\n",
    "    # 7,8043, 11,099, 9,2492, 12,641, 8,2895, 835,22, 234,49, 29,635\n",
    "\n",
    "    X_data = df_predictions.drop(columns=[\"class\", \"%rate\"])\n",
    "    y_data = df_predictions[[\"class\", \"%rate\"]]\n",
    "    from sklearn.neighbors import KNeighborsClassifier\n",
    "    neigh = KNeighborsClassifier(n_neighbors=3)\n",
    "    neigh.fit(X_data, y_data)\n",
    "    perfect_petrol = [7.8043, 11.099, 9.2492, 12.641, 8.2895, 835.22, 234.49, 29.635]\n",
    "    prediction_class_percent = neigh.predict([perfect_petrol])\n",
    "    df_output.iloc[index, 8] = prediction_class_percent[0][0]\n",
    "    df_output.iloc[index, 9] = prediction_class_percent[0][1]\n"
   ]
  },
  {
   "cell_type": "code",
   "execution_count": 8,
   "metadata": {
    "pycharm": {
     "name": "#%%\n"
    }
   },
   "outputs": [],
   "source": [
    "# save the model above\n",
    "import pickle\n",
    "file_model = \"pickle_KNN_model.pkl\"\n",
    "with open(file_model,'wb') as f:\n",
    "    pickle.dump(neigh, f)"
   ]
  }
 ],
 "metadata": {
  "kernelspec": {
   "display_name": "tf1",
   "language": "python",
   "name": "python3"
  },
  "language_info": {
   "codemirror_mode": {
    "name": "ipython",
    "version": 3
   },
   "file_extension": ".py",
   "mimetype": "text/x-python",
   "name": "python",
   "nbconvert_exporter": "python",
   "pygments_lexer": "ipython3",
   "version": "3.8.10"
  },
  "orig_nbformat": 4,
  "vscode": {
   "interpreter": {
    "hash": "b781dc5a445d3de671e5200e873862756827fffc6e46fef33628dbe8353f9066"
   }
  }
 },
 "nbformat": 4,
 "nbformat_minor": 2
}