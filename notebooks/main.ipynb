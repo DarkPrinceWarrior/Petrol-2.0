{
 "cells": [
  {
   "cell_type": "code",
   "execution_count": 1,
   "metadata": {
    "pycharm": {
     "name": "#%%\n"
    }
   },
   "outputs": [],
   "source": [
    "import warnings\n",
    "warnings.filterwarnings(\"ignore\")\n",
    "import pandas as pd\n",
    "import numpy as np\n",
    "from sklearn.datasets import load_linnerud\n",
    "from sklearn.decomposition import PCA, TruncatedSVD\n",
    "from sklearn.model_selection import train_test_split\n",
    "from sklearn.pipeline import FeatureUnion\n",
    "from physlearn import Regressor\n",
    "from sklearn.svm import LinearSVC\n",
    "import os\n",
    "import cv2\n",
    "import re"
   ]
  },
  {
   "cell_type": "code",
   "execution_count": 2,
   "metadata": {
    "pycharm": {
     "name": "#%%\n"
    }
   },
   "outputs": [
    {
     "data": {
      "text/html": [
       "<div>\n",
       "<style scoped>\n",
       "    .dataframe tbody tr th:only-of-type {\n",
       "        vertical-align: middle;\n",
       "    }\n",
       "\n",
       "    .dataframe tbody tr th {\n",
       "        vertical-align: top;\n",
       "    }\n",
       "\n",
       "    .dataframe thead th {\n",
       "        text-align: right;\n",
       "    }\n",
       "</style>\n",
       "<table border=\"1\" class=\"dataframe\">\n",
       "  <thead>\n",
       "    <tr style=\"text-align: right;\">\n",
       "      <th></th>\n",
       "      <th>Ароматичность</th>\n",
       "      <th>Алифатичность</th>\n",
       "      <th>Разветвленность</th>\n",
       "      <th>Окисленность</th>\n",
       "      <th>содержание серы</th>\n",
       "      <th>плотность</th>\n",
       "      <th>вязкость</th>\n",
       "      <th>процент неразделяемой эмульсии</th>\n",
       "      <th>класс химии</th>\n",
       "      <th>процент химии</th>\n",
       "      <th>Ароматичность(химия)</th>\n",
       "      <th>Алифатичность(химия)</th>\n",
       "      <th>Разветвленность(химия)</th>\n",
       "      <th>Окисленность(химия)</th>\n",
       "      <th>содержание серы(химия)</th>\n",
       "      <th>плотность(химия)</th>\n",
       "      <th>вязкость(химия)</th>\n",
       "      <th>процент неразделяемой эмульсии(химия)</th>\n",
       "    </tr>\n",
       "  </thead>\n",
       "  <tbody>\n",
       "    <tr>\n",
       "      <th>4427</th>\n",
       "      <td>0.85</td>\n",
       "      <td>5.4</td>\n",
       "      <td>0.41</td>\n",
       "      <td>1.9</td>\n",
       "      <td>0.5</td>\n",
       "      <td>921.0</td>\n",
       "      <td>240.0</td>\n",
       "      <td>6.0</td>\n",
       "      <td>4.0</td>\n",
       "      <td>15.0</td>\n",
       "      <td>15.95</td>\n",
       "      <td>13.3</td>\n",
       "      <td>12.51</td>\n",
       "      <td>13.0</td>\n",
       "      <td>5.6</td>\n",
       "      <td>925.1</td>\n",
       "      <td>246.1</td>\n",
       "      <td>11.1</td>\n",
       "    </tr>\n",
       "    <tr>\n",
       "      <th>5830</th>\n",
       "      <td>0.05</td>\n",
       "      <td>8.8</td>\n",
       "      <td>0.38</td>\n",
       "      <td>1.6</td>\n",
       "      <td>0.7</td>\n",
       "      <td>875.0</td>\n",
       "      <td>152.0</td>\n",
       "      <td>31.0</td>\n",
       "      <td>5.0</td>\n",
       "      <td>20.0</td>\n",
       "      <td>17.25</td>\n",
       "      <td>17.3</td>\n",
       "      <td>13.58</td>\n",
       "      <td>13.8</td>\n",
       "      <td>5.9</td>\n",
       "      <td>879.6</td>\n",
       "      <td>158.8</td>\n",
       "      <td>36.2</td>\n",
       "    </tr>\n",
       "    <tr>\n",
       "      <th>5982</th>\n",
       "      <td>0.79</td>\n",
       "      <td>9.5</td>\n",
       "      <td>0.50</td>\n",
       "      <td>2.6</td>\n",
       "      <td>4.6</td>\n",
       "      <td>614.0</td>\n",
       "      <td>244.0</td>\n",
       "      <td>43.0</td>\n",
       "      <td>5.0</td>\n",
       "      <td>20.0</td>\n",
       "      <td>17.99</td>\n",
       "      <td>18.0</td>\n",
       "      <td>13.70</td>\n",
       "      <td>14.8</td>\n",
       "      <td>9.8</td>\n",
       "      <td>618.6</td>\n",
       "      <td>250.8</td>\n",
       "      <td>48.2</td>\n",
       "    </tr>\n",
       "    <tr>\n",
       "      <th>6215</th>\n",
       "      <td>0.72</td>\n",
       "      <td>3.2</td>\n",
       "      <td>0.44</td>\n",
       "      <td>2.2</td>\n",
       "      <td>6.3</td>\n",
       "      <td>1054.0</td>\n",
       "      <td>298.0</td>\n",
       "      <td>17.0</td>\n",
       "      <td>6.0</td>\n",
       "      <td>5.0</td>\n",
       "      <td>6.02</td>\n",
       "      <td>7.8</td>\n",
       "      <td>7.74</td>\n",
       "      <td>8.5</td>\n",
       "      <td>11.6</td>\n",
       "      <td>1056.3</td>\n",
       "      <td>301.3</td>\n",
       "      <td>22.3</td>\n",
       "    </tr>\n",
       "    <tr>\n",
       "      <th>2944</th>\n",
       "      <td>0.84</td>\n",
       "      <td>3.8</td>\n",
       "      <td>0.45</td>\n",
       "      <td>2.7</td>\n",
       "      <td>2.3</td>\n",
       "      <td>976.0</td>\n",
       "      <td>270.0</td>\n",
       "      <td>39.0</td>\n",
       "      <td>3.0</td>\n",
       "      <td>10.0</td>\n",
       "      <td>11.64</td>\n",
       "      <td>10.0</td>\n",
       "      <td>10.25</td>\n",
       "      <td>11.5</td>\n",
       "      <td>7.1</td>\n",
       "      <td>979.0</td>\n",
       "      <td>274.6</td>\n",
       "      <td>43.8</td>\n",
       "    </tr>\n",
       "  </tbody>\n",
       "</table>\n",
       "</div>"
      ],
      "text/plain": [
       "      Ароматичность  Алифатичность  Разветвленность  Окисленность  \\\n",
       "4427           0.85            5.4             0.41           1.9   \n",
       "5830           0.05            8.8             0.38           1.6   \n",
       "5982           0.79            9.5             0.50           2.6   \n",
       "6215           0.72            3.2             0.44           2.2   \n",
       "2944           0.84            3.8             0.45           2.7   \n",
       "\n",
       "       содержание серы  плотность  вязкость  процент неразделяемой эмульсии  \\\n",
       "4427               0.5      921.0     240.0                             6.0   \n",
       "5830               0.7      875.0     152.0                            31.0   \n",
       "5982               4.6      614.0     244.0                            43.0   \n",
       "6215               6.3     1054.0     298.0                            17.0   \n",
       "2944               2.3      976.0     270.0                            39.0   \n",
       "\n",
       "      класс химии  процент химии  Ароматичность(химия)  Алифатичность(химия)  \\\n",
       "4427          4.0           15.0                 15.95                  13.3   \n",
       "5830          5.0           20.0                 17.25                  17.3   \n",
       "5982          5.0           20.0                 17.99                  18.0   \n",
       "6215          6.0            5.0                  6.02                   7.8   \n",
       "2944          3.0           10.0                 11.64                  10.0   \n",
       "\n",
       "      Разветвленность(химия)  Окисленность(химия)   содержание серы(химия)  \\\n",
       "4427                   12.51                 13.0                      5.6   \n",
       "5830                   13.58                 13.8                      5.9   \n",
       "5982                   13.70                 14.8                      9.8   \n",
       "6215                    7.74                  8.5                     11.6   \n",
       "2944                   10.25                 11.5                      7.1   \n",
       "\n",
       "      плотность(химия)  вязкость(химия)  процент неразделяемой эмульсии(химия)  \n",
       "4427             925.1            246.1                                   11.1  \n",
       "5830             879.6            158.8                                   36.2  \n",
       "5982             618.6            250.8                                   48.2  \n",
       "6215            1056.3            301.3                                   22.3  \n",
       "2944             979.0            274.6                                   43.8  "
      ]
     },
     "execution_count": 2,
     "metadata": {},
     "output_type": "execute_result"
    }
   ],
   "source": [
    "df=pd.read_excel(\"data_new.xlsx\")\n",
    "df = df.sample(frac=1)\n",
    "df.head()"
   ]
  },
  {
   "cell_type": "code",
   "execution_count": 3,
   "metadata": {
    "pycharm": {
     "name": "#%%\n"
    }
   },
   "outputs": [],
   "source": [
    "# in dataset there are 2 empty rows as delimeter for classification\n",
    "\n",
    "after_chem_columns = [\"Ароматичность(химия)\",\"Алифатичность(химия)\",\"Разветвленность(химия)\",\"Окисленность(химия)\",\" содержание серы(химия)\",\n",
    "              \"плотность(химия)\",\"вязкость(химия)\",\"процент неразделяемой эмульсии(химия)\"]\n",
    "df = df.dropna(axis='rows')"
   ]
  },
  {
   "cell_type": "code",
   "execution_count": 4,
   "metadata": {
    "pycharm": {
     "name": "#%%\n"
    }
   },
   "outputs": [],
   "source": [
    "# for 6 classes and each percent rate 5,10,15,20 (percents per)\n",
    "average_values_petrol = {}\n",
    "\n",
    "for chem_class in range(1,7):\n",
    "    inner_dict = {}\n",
    "    for percent in [5,10,15,20]:\n",
    "        inner_dict[percent] = df.loc[(df[\"класс химии\"] == chem_class) & \n",
    "                                            (df[\"процент химии\"]==percent),after_chem_columns].mean(axis=0)\n",
    "    average_values_petrol[chem_class] = inner_dict\n",
    "    \n",
    "# for 6 classes and each for 5,10,15,20 (percents per) - output to excel file sheets\n",
    "with pd.ExcelWriter(\"output.xlsx\") as writer:\n",
    "    for index in average_values_petrol.keys():\n",
    "        df1 = pd.DataFrame(average_values_petrol[index])\n",
    "        df1.to_excel(writer,sheet_name=str(index),index=False)\n",
    "        \n",
    "# Perfect petrol match after chemistry \n",
    "# 7,8043, 11,099, 9,2492, 12,641, 8,2895, 835,22, 234,49, 29,635"
   ]
  },
  {
   "attachments": {},
   "cell_type": "markdown",
   "metadata": {
    "pycharm": {
     "name": "#%% md\n"
    }
   },
   "source": [
    "Предсказываем нефть после обработки - 8 столбцов значений"
   ]
  },
  {
   "cell_type": "code",
   "execution_count": 5,
   "metadata": {
    "pycharm": {
     "name": "#%%\n"
    }
   },
   "outputs": [
    {
     "name": "stdout",
     "output_type": "stream",
     "text": [
      "Fitting 5 folds for each of 8 candidates, totalling 40 fits\n",
      "[Pipeline] ................ (step 1 of 2) Processing tr, total=   0.0s\n",
      "[Pipeline] ............... (step 2 of 2) Processing reg, total=   0.0s\n",
      "[Pipeline] ................ (step 1 of 2) Processing tr, total=   0.0s\n",
      "[Pipeline] ............... (step 2 of 2) Processing reg, total=   0.0s\n",
      "6.19\n"
     ]
    }
   ],
   "source": [
    "# Кусок кода взят отсюда: https://scikit-physlearn.readthedocs.io/en/latest/quick_start.html\n",
    "\n",
    "bunch = load_linnerud(as_frame=True)  # returns a Bunch instance\n",
    "X, y = df.iloc[:,:10], df.iloc[:,10:]\n",
    "X_train, X_test, y_train, y_test = train_test_split(X, y,\n",
    "                                                    random_state=42)\n",
    "\n",
    "transformer_list = [('pca', PCA(n_components=1)),\n",
    "                    ('svd', TruncatedSVD(n_components=2))]\n",
    "union = FeatureUnion(transformer_list=transformer_list, n_jobs=-1)\n",
    "\n",
    "# Select a regressor, e.g., LGBMRegressor from LightGBM,\n",
    "# with a case-insensitive string.\n",
    "reg = Regressor(regressor_choice='lgbmregressor',\n",
    "                pipeline_transform=('tr', union),\n",
    "                scoring='neg_mean_absolute_error')\n",
    "\n",
    "# Automatically build the pipeline with final estimator MultiOutputRegressor\n",
    "# from Sklearn, then exhaustively search over the (hyper)parameters.\n",
    "search_params = dict(reg__boosting_type=['gbdt', 'goss'],\n",
    "                     reg__n_estimators=[6, 8, 10, 20])\n",
    "reg.search(X_train, y_train, search_params=search_params,\n",
    "           search_method='gridsearchcv')\n",
    "\n",
    "# Generate predictions with the refit regressor, then\n",
    "# compute the average mean absolute error.\n",
    "y_pred = reg.fit(X_train, y_train).predict(X_test)\n",
    "score = reg.score(y_test, y_pred)\n",
    "print(round(score['mae'].mean(),2))\n",
    "# print(score['mae'].mean().round(decimals=2))"
   ]
  },
  {
   "cell_type": "markdown",
   "metadata": {
    "pycharm": {
     "name": "#%% md\n"
    }
   },
   "source": [
    "Предсказываем химию полученной нефти на сгенерированных предсказаниях нефти после химии"
   ]
  },
  {
   "cell_type": "code",
   "execution_count": 6,
   "metadata": {
    "pycharm": {
     "name": "#%%\n"
    }
   },
   "outputs": [],
   "source": [
    "chemisrty_classes = X[\"класс химии\"].unique()\n",
    "percent_rate = X[\"процент химии\"].unique()\n",
    "\n",
    "data = X.sample(frac=1)[:1]\n",
    "\n",
    "# Knn after this\n",
    "prediction_dict = {}\n",
    "for chm_class in np.sort(chemisrty_classes):\n",
    "    data[\"класс химии\"] = chm_class\n",
    "    for rate in np.sort(percent_rate):\n",
    "        data[\"процент химии\"] = rate\n",
    "        predictions = reg.predict(data).values\n",
    "        prediction_dict[f\"{chm_class}_{rate}\"] = predictions[0]\n",
    "        \n",
    "df_predictions = pd.DataFrame(prediction_dict.values())\n",
    "df_predictions[\"class\"] = [key.split('_')[0] for key in prediction_dict.keys()]\n",
    "df_predictions[\"%rate\"] = [key.split('_')[1] for key in prediction_dict.keys()]"
   ]
  },
  {
   "cell_type": "code",
   "execution_count": 7,
   "metadata": {
    "pycharm": {
     "name": "#%%\n"
    }
   },
   "outputs": [
    {
     "name": "stdout",
     "output_type": "stream",
     "text": [
      "[['1.0' '10.0']]\n"
     ]
    }
   ],
   "source": [
    "# Забиваем идеальную нефть и вытаскиваем ближайшего соседа - то есть класс нефти и процент\n",
    "# Это обратный подход, то есть мы как будто бы находим на самом деле какой класс и процент использовать,\n",
    "# чтобы максимально приблизиться к \"Идеальному соотншению парметров в нефти\"\n",
    "\n",
    "# targets - это слияние класса и процента химии\n",
    "\n",
    "# 7,8043, 11,099, 9,2492, 12,641, 8,2895, 835,22, 234,49, 29,635\n",
    "X = df_predictions.drop(columns=[\"class\",\"%rate\"])\n",
    "y = df_predictions[[\"class\",\"%rate\"]]\n",
    "from sklearn.neighbors import KNeighborsClassifier\n",
    "neigh = KNeighborsClassifier(n_neighbors=3)\n",
    "neigh.fit(X, y)\n",
    "perfect_petrol = [7.8043, 11.099, 9.2492, 12.641, 8.2895, 835.22, 234.49, 29.635]\n",
    "print(neigh.predict([perfect_petrol]))"
   ]
  }
 ],
 "metadata": {
  "kernelspec": {
   "display_name": "tf1",
   "language": "python",
   "name": "python3"
  },
  "language_info": {
   "codemirror_mode": {
    "name": "ipython",
    "version": 3
   },
   "file_extension": ".py",
   "mimetype": "text/x-python",
   "name": "python",
   "nbconvert_exporter": "python",
   "pygments_lexer": "ipython3",
   "version": "3.8.10"
  },
  "orig_nbformat": 4,
  "vscode": {
   "interpreter": {
    "hash": "b781dc5a445d3de671e5200e873862756827fffc6e46fef33628dbe8353f9066"
   }
  }
 },
 "nbformat": 4,
 "nbformat_minor": 2
}