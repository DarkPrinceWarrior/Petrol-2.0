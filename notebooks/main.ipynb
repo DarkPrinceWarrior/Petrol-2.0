{
 "cells": [
  {
   "cell_type": "code",
   "execution_count": 1,
   "metadata": {
    "pycharm": {
     "name": "#%%\n"
    }
   },
   "outputs": [],
   "source": [
    "import warnings\n",
    "warnings.filterwarnings(\"ignore\")\n",
    "import pandas as pd\n",
    "import numpy as np\n",
    "from sklearn.datasets import load_linnerud\n",
    "from sklearn.decomposition import PCA, TruncatedSVD\n",
    "from sklearn.model_selection import train_test_split\n",
    "from sklearn.pipeline import FeatureUnion\n",
    "from physlearn import Regressor\n",
    "from sklearn.svm import LinearSVC\n",
    "import os\n",
    "import cv2\n",
    "import re"
   ]
  },
  {
   "cell_type": "code",
   "execution_count": 34,
   "metadata": {
    "pycharm": {
     "name": "#%%\n"
    }
   },
   "outputs": [
    {
     "data": {
      "text/html": [
       "<div>\n",
       "<style scoped>\n",
       "    .dataframe tbody tr th:only-of-type {\n",
       "        vertical-align: middle;\n",
       "    }\n",
       "\n",
       "    .dataframe tbody tr th {\n",
       "        vertical-align: top;\n",
       "    }\n",
       "\n",
       "    .dataframe thead th {\n",
       "        text-align: right;\n",
       "    }\n",
       "</style>\n",
       "<table border=\"1\" class=\"dataframe\">\n",
       "  <thead>\n",
       "    <tr style=\"text-align: right;\">\n",
       "      <th></th>\n",
       "      <th>Ароматичность</th>\n",
       "      <th>Алифатичность</th>\n",
       "      <th>Разветвленность</th>\n",
       "      <th>Окисленность</th>\n",
       "      <th>содержание серы</th>\n",
       "      <th>плотность</th>\n",
       "      <th>вязкость</th>\n",
       "      <th>процент неразделяемой эмульсии</th>\n",
       "      <th>класс химии</th>\n",
       "      <th>процент химии</th>\n",
       "      <th>Ароматичность(химия)</th>\n",
       "      <th>Алифатичность(химия)</th>\n",
       "      <th>Разветвленность(химия)</th>\n",
       "      <th>Окисленность(химия)</th>\n",
       "      <th>содержание серы(химия)</th>\n",
       "      <th>плотность(химия)</th>\n",
       "      <th>вязкость(химия)</th>\n",
       "      <th>процент неразделяемой эмульсии(химия)</th>\n",
       "    </tr>\n",
       "  </thead>\n",
       "  <tbody>\n",
       "    <tr>\n",
       "      <th>3099</th>\n",
       "      <td>0.54</td>\n",
       "      <td>7.6</td>\n",
       "      <td>0.36</td>\n",
       "      <td>2.6</td>\n",
       "      <td>2.7</td>\n",
       "      <td>742.0</td>\n",
       "      <td>296.0</td>\n",
       "      <td>47.0</td>\n",
       "      <td>3</td>\n",
       "      <td>15</td>\n",
       "      <td>15.34</td>\n",
       "      <td>15.4</td>\n",
       "      <td>12.16</td>\n",
       "      <td>13.4</td>\n",
       "      <td>7.5</td>\n",
       "      <td>745.8</td>\n",
       "      <td>301.8</td>\n",
       "      <td>51.8</td>\n",
       "    </tr>\n",
       "    <tr>\n",
       "      <th>2985</th>\n",
       "      <td>0.28</td>\n",
       "      <td>9.9</td>\n",
       "      <td>0.44</td>\n",
       "      <td>1.8</td>\n",
       "      <td>3.2</td>\n",
       "      <td>1018.0</td>\n",
       "      <td>107.0</td>\n",
       "      <td>45.0</td>\n",
       "      <td>3</td>\n",
       "      <td>10</td>\n",
       "      <td>11.08</td>\n",
       "      <td>16.1</td>\n",
       "      <td>10.24</td>\n",
       "      <td>10.6</td>\n",
       "      <td>8.0</td>\n",
       "      <td>1021.0</td>\n",
       "      <td>111.6</td>\n",
       "      <td>49.8</td>\n",
       "    </tr>\n",
       "    <tr>\n",
       "      <th>1817</th>\n",
       "      <td>0.27</td>\n",
       "      <td>7.3</td>\n",
       "      <td>0.42</td>\n",
       "      <td>2.4</td>\n",
       "      <td>2.2</td>\n",
       "      <td>743.0</td>\n",
       "      <td>269.0</td>\n",
       "      <td>34.0</td>\n",
       "      <td>2</td>\n",
       "      <td>15</td>\n",
       "      <td>15.17</td>\n",
       "      <td>15.0</td>\n",
       "      <td>12.32</td>\n",
       "      <td>13.3</td>\n",
       "      <td>7.1</td>\n",
       "      <td>746.9</td>\n",
       "      <td>274.9</td>\n",
       "      <td>38.9</td>\n",
       "    </tr>\n",
       "    <tr>\n",
       "      <th>1285</th>\n",
       "      <td>1.00</td>\n",
       "      <td>8.7</td>\n",
       "      <td>0.47</td>\n",
       "      <td>2.7</td>\n",
       "      <td>2.6</td>\n",
       "      <td>936.0</td>\n",
       "      <td>153.0</td>\n",
       "      <td>14.0</td>\n",
       "      <td>2</td>\n",
       "      <td>5</td>\n",
       "      <td>5.90</td>\n",
       "      <td>12.9</td>\n",
       "      <td>7.37</td>\n",
       "      <td>8.6</td>\n",
       "      <td>7.5</td>\n",
       "      <td>937.9</td>\n",
       "      <td>155.9</td>\n",
       "      <td>18.9</td>\n",
       "    </tr>\n",
       "    <tr>\n",
       "      <th>290</th>\n",
       "      <td>0.73</td>\n",
       "      <td>4.2</td>\n",
       "      <td>0.50</td>\n",
       "      <td>1.4</td>\n",
       "      <td>5.0</td>\n",
       "      <td>704.0</td>\n",
       "      <td>131.0</td>\n",
       "      <td>46.0</td>\n",
       "      <td>1</td>\n",
       "      <td>5</td>\n",
       "      <td>5.73</td>\n",
       "      <td>8.5</td>\n",
       "      <td>7.50</td>\n",
       "      <td>7.4</td>\n",
       "      <td>10.0</td>\n",
       "      <td>706.0</td>\n",
       "      <td>134.0</td>\n",
       "      <td>51.0</td>\n",
       "    </tr>\n",
       "  </tbody>\n",
       "</table>\n",
       "</div>"
      ],
      "text/plain": [
       "      Ароматичность  Алифатичность  Разветвленность  Окисленность  \\\n",
       "3099           0.54            7.6             0.36           2.6   \n",
       "2985           0.28            9.9             0.44           1.8   \n",
       "1817           0.27            7.3             0.42           2.4   \n",
       "1285           1.00            8.7             0.47           2.7   \n",
       "290            0.73            4.2             0.50           1.4   \n",
       "\n",
       "       содержание серы  плотность  вязкость  процент неразделяемой эмульсии  \\\n",
       "3099               2.7      742.0     296.0                            47.0   \n",
       "2985               3.2     1018.0     107.0                            45.0   \n",
       "1817               2.2      743.0     269.0                            34.0   \n",
       "1285               2.6      936.0     153.0                            14.0   \n",
       "290                5.0      704.0     131.0                            46.0   \n",
       "\n",
       "      класс химии  процент химии  Ароматичность(химия)  Алифатичность(химия)  \\\n",
       "3099            3             15                 15.34                  15.4   \n",
       "2985            3             10                 11.08                  16.1   \n",
       "1817            2             15                 15.17                  15.0   \n",
       "1285            2              5                  5.90                  12.9   \n",
       "290             1              5                  5.73                   8.5   \n",
       "\n",
       "      Разветвленность(химия)  Окисленность(химия)   содержание серы(химия)  \\\n",
       "3099                   12.16                 13.4                      7.5   \n",
       "2985                   10.24                 10.6                      8.0   \n",
       "1817                   12.32                 13.3                      7.1   \n",
       "1285                    7.37                  8.6                      7.5   \n",
       "290                     7.50                  7.4                     10.0   \n",
       "\n",
       "      плотность(химия)  вязкость(химия)  процент неразделяемой эмульсии(химия)  \n",
       "3099             745.8            301.8                                   51.8  \n",
       "2985            1021.0            111.6                                   49.8  \n",
       "1817             746.9            274.9                                   38.9  \n",
       "1285             937.9            155.9                                   18.9  \n",
       "290              706.0            134.0                                   51.0  "
      ]
     },
     "execution_count": 34,
     "metadata": {},
     "output_type": "execute_result"
    }
   ],
   "source": [
    "df=pd.read_excel(\"data_new.xlsx\")\n",
    "\n",
    "# in dataset there are 2 empty rows as delimeter for classification\n",
    "after_chem_columns = [\"Ароматичность(химия)\",\"Алифатичность(химия)\",\"Разветвленность(химия)\",\"Окисленность(химия)\",\" содержание серы(химия)\",\n",
    "              \"плотность(химия)\",\"вязкость(химия)\",\"процент неразделяемой эмульсии(химия)\"]\n",
    "df = df.dropna(axis='rows')\n",
    "df[\"класс химии\"] = df[\"класс химии\"].astype(int)\n",
    "df[\"процент химии\"] = df[\"процент химии\"].astype(int)\n",
    "\n",
    "df_train =df.iloc[:6000,:] \n",
    "df_valid =df.iloc[6000:,:] \n",
    "df_train = df_train.sample(frac=1)\n",
    "df_train.head()"
   ]
  },
  {
   "cell_type": "code",
   "execution_count": 100,
   "metadata": {
    "pycharm": {
     "name": "#%%\n"
    }
   },
   "outputs": [],
   "source": [
    "# for 6 classes and each percent rate 5,10,15,20 (percents per)\n",
    "average_values_petrol = {}\n",
    "\n",
    "for chem_class in range(1,7):\n",
    "    inner_dict = {}\n",
    "    for percent in [5,10,15,20]:\n",
    "        inner_dict[percent] = df.loc[(df[\"класс химии\"] == chem_class) & \n",
    "                                            (df[\"процент химии\"]==percent),after_chem_columns].mean(axis=0)\n",
    "    average_values_petrol[chem_class] = inner_dict\n",
    "    \n",
    "# for 6 classes and each for 5,10,15,20 (percents per) - output to excel file sheets\n",
    "with pd.ExcelWriter(\"output.xlsx\") as writer:\n",
    "    for index in average_values_petrol.keys():\n",
    "        df1 = pd.DataFrame(average_values_petrol[index])\n",
    "        df1.to_excel(writer,sheet_name=str(index),index=False)\n",
    "        \n",
    "# Perfect petrol match after chemistry \n",
    "# 7,8043, 11,099, 9,2492, 12,641, 8,2895, 835,22, 234,49, 29,635"
   ]
  },
  {
   "attachments": {},
   "cell_type": "markdown",
   "metadata": {
    "pycharm": {
     "name": "#%% md\n"
    }
   },
   "source": [
    "Предсказываем нефть после обработки - 8 столбцов значений"
   ]
  },
  {
   "cell_type": "code",
   "execution_count": 37,
   "metadata": {
    "pycharm": {
     "name": "#%%\n"
    }
   },
   "outputs": [
    {
     "name": "stdout",
     "output_type": "stream",
     "text": [
      "Fitting 5 folds for each of 8 candidates, totalling 40 fits\n",
      "[Pipeline] ................ (step 1 of 2) Processing tr, total=   0.0s\n",
      "[Pipeline] ............... (step 2 of 2) Processing reg, total=   0.0s\n",
      "[Pipeline] ................ (step 1 of 2) Processing tr, total=   0.0s\n",
      "[Pipeline] ............... (step 2 of 2) Processing reg, total=   0.0s\n",
      "6.29\n"
     ]
    }
   ],
   "source": [
    "# Кусок кода взят отсюда: https://scikit-physlearn.readthedocs.io/en/latest/quick_start.html\n",
    "\n",
    "bunch = load_linnerud(as_frame=True)  # returns a Bunch instance\n",
    "X, y = df_train.iloc[:,:10], df_train.iloc[:,10:]\n",
    "X_train, X_test, y_train, y_test = train_test_split(X, y,\n",
    "                                                    random_state=42)\n",
    "\n",
    "transformer_list = [('pca', PCA(n_components=1)),\n",
    "                    ('svd', TruncatedSVD(n_components=2))]\n",
    "union = FeatureUnion(transformer_list=transformer_list, n_jobs=-1)\n",
    "\n",
    "# Select a regressor, e.g., LGBMRegressor from LightGBM,\n",
    "# with a case-insensitive string.\n",
    "reg = Regressor(regressor_choice='lgbmregressor',\n",
    "                pipeline_transform=('tr', union),\n",
    "                scoring='neg_mean_absolute_error')\n",
    "\n",
    "# Automatically build the pipeline with final estimator MultiOutputRegressor\n",
    "# from Sklearn, then exhaustively search over the (hyper)parameters.\n",
    "search_params = dict(reg__boosting_type=['gbdt', 'goss'],\n",
    "                     reg__n_estimators=[6, 8, 10, 20])\n",
    "reg.search(X_train, y_train, search_params=search_params,\n",
    "           search_method='gridsearchcv')\n",
    "\n",
    "# Generate predictions with the refit regressor, then\n",
    "# compute the average mean absolute error.\n",
    "y_pred = reg.fit(X_train, y_train).predict(X_test)\n",
    "score = reg.score(y_test, y_pred)\n",
    "print(round(score['mae'].mean(),2))\n",
    "# print(score['mae'].mean().round(decimals=2))"
   ]
  },
  {
   "cell_type": "markdown",
   "metadata": {
    "pycharm": {
     "name": "#%% md\n"
    }
   },
   "source": [
    "Предсказываем химию полученной нефти на сгенерированных предсказаниях нефти после химии"
   ]
  },
  {
   "cell_type": "code",
   "execution_count": null,
   "metadata": {
    "pycharm": {
     "name": "#%%\n"
    }
   },
   "outputs": [],
   "source": [
    "chemisrty_classes = df[\"класс химии\"].unique()\n",
    "percent_rate = df[\"процент химии\"].unique()\n",
    "\n",
    "X_valid= df_valid.iloc[:,:10]\n",
    "\n",
    "for index in range(100):\n",
    "    data = X_valid.sample(frac=1)[index:index+1]\n",
    "    prediction_dict = {}\n",
    "    for index in range(len(data)):\n",
    "        for chm_class in np.sort(chemisrty_classes):\n",
    "            data[\"класс химии\"] = chm_class\n",
    "            for rate in np.sort(percent_rate):\n",
    "                data[\"процент химии\"] = rate\n",
    "                predictions = reg.predict(data).values\n",
    "                prediction_dict[f\"{chm_class}_{rate}_{index}\"] = predictions[0]\n",
    "            \n",
    "    df_predictions = pd.DataFrame(prediction_dict.values())\n",
    "    df_predictions[\"class\"] = [int(key.split('_')[0]) for key in prediction_dict.keys()]\n",
    "    df_predictions[\"%rate\"] = [int(key.split('_')[1]) for key in prediction_dict.keys()]\n",
    "\n",
    "\n",
    "    # Забиваем идеальную нефть и вытаскиваем ближайшего соседа - то есть класс нефти и процент\n",
    "    # Это обратный подход, то есть мы как будто бы находим на самом деле какой класс и процент использовать,\n",
    "    # чтобы максимально приблизиться к \"Идеальному соотншению парметров в нефти\"\n",
    "\n",
    "    # targets - это слияние класса и процента химии\n",
    "\n",
    "    # 7,8043, 11,099, 9,2492, 12,641, 8,2895, 835,22, 234,49, 29,635\n",
    "\n",
    "    X_data = df_predictions.drop(columns=[\"class\",\"%rate\"])\n",
    "    y_data = df_predictions[[\"class\",\"%rate\"]]\n",
    "    from sklearn.neighbors import KNeighborsClassifier\n",
    "    neigh = KNeighborsClassifier(n_neighbors=3)\n",
    "    neigh.fit(X_data, y_data)\n",
    "    perfect_petrol = [7.8043, 11.099, 9.2492, 12.641, 8.2895, 835.22, 234.49, 29.635]\n",
    "    print(neigh.predict([perfect_petrol]))"
   ]
  }
 ],
 "metadata": {
  "kernelspec": {
   "display_name": "tf1",
   "language": "python",
   "name": "python3"
  },
  "language_info": {
   "codemirror_mode": {
    "name": "ipython",
    "version": 3
   },
   "file_extension": ".py",
   "mimetype": "text/x-python",
   "name": "python",
   "nbconvert_exporter": "python",
   "pygments_lexer": "ipython3",
   "version": "3.8.10"
  },
  "orig_nbformat": 4,
  "vscode": {
   "interpreter": {
    "hash": "b781dc5a445d3de671e5200e873862756827fffc6e46fef33628dbe8353f9066"
   }
  }
 },
 "nbformat": 4,
 "nbformat_minor": 2
}